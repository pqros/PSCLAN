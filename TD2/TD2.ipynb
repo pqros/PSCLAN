{
 "cells": [
  {
   "cell_type": "code",
   "execution_count": 1,
   "metadata": {},
   "outputs": [],
   "source": [
    "import numpy as np\n",
    "import pandas as pd\n",
    "import matplotlib.pyplot as plt\n",
    "from sklearn.model_selection import train_test_split\n",
    "from sklearn.linear_model import LogisticRegression"
   ]
  },
  {
   "cell_type": "code",
   "execution_count": 2,
   "metadata": {
    "scrolled": true
   },
   "outputs": [
    {
     "data": {
      "text/html": [
       "<div>\n",
       "<style scoped>\n",
       "    .dataframe tbody tr th:only-of-type {\n",
       "        vertical-align: middle;\n",
       "    }\n",
       "\n",
       "    .dataframe tbody tr th {\n",
       "        vertical-align: top;\n",
       "    }\n",
       "\n",
       "    .dataframe thead th {\n",
       "        text-align: right;\n",
       "    }\n",
       "</style>\n",
       "<table border=\"1\" class=\"dataframe\">\n",
       "  <thead>\n",
       "    <tr style=\"text-align: right;\">\n",
       "      <th></th>\n",
       "      <th>Destination Port</th>\n",
       "      <th>Flow Duration</th>\n",
       "      <th>Total Fwd Packets</th>\n",
       "      <th>Total Backward Packets</th>\n",
       "      <th>Total Length of Fwd Packets</th>\n",
       "      <th>Total Length of Bwd Packets</th>\n",
       "      <th>Fwd Packet Length Max</th>\n",
       "      <th>Fwd Packet Length Min</th>\n",
       "      <th>Fwd Packet Length Mean</th>\n",
       "      <th>Fwd Packet Length Std</th>\n",
       "      <th>...</th>\n",
       "      <th>min_seg_size_forward</th>\n",
       "      <th>Active Mean</th>\n",
       "      <th>Active Std</th>\n",
       "      <th>Active Max</th>\n",
       "      <th>Active Min</th>\n",
       "      <th>Idle Mean</th>\n",
       "      <th>Idle Std</th>\n",
       "      <th>Idle Max</th>\n",
       "      <th>Idle Min</th>\n",
       "      <th>Label</th>\n",
       "    </tr>\n",
       "  </thead>\n",
       "  <tbody>\n",
       "    <tr>\n",
       "      <th>0</th>\n",
       "      <td>389</td>\n",
       "      <td>113095465</td>\n",
       "      <td>48</td>\n",
       "      <td>24</td>\n",
       "      <td>9668</td>\n",
       "      <td>10012</td>\n",
       "      <td>403</td>\n",
       "      <td>0</td>\n",
       "      <td>201.416667</td>\n",
       "      <td>203.548293</td>\n",
       "      <td>...</td>\n",
       "      <td>32</td>\n",
       "      <td>203985.500</td>\n",
       "      <td>5.758373e+05</td>\n",
       "      <td>1629110</td>\n",
       "      <td>379</td>\n",
       "      <td>13800000.0</td>\n",
       "      <td>4.277541e+06</td>\n",
       "      <td>16500000</td>\n",
       "      <td>6737603</td>\n",
       "      <td>BENIGN</td>\n",
       "    </tr>\n",
       "    <tr>\n",
       "      <th>1</th>\n",
       "      <td>389</td>\n",
       "      <td>113473706</td>\n",
       "      <td>68</td>\n",
       "      <td>40</td>\n",
       "      <td>11364</td>\n",
       "      <td>12718</td>\n",
       "      <td>403</td>\n",
       "      <td>0</td>\n",
       "      <td>167.117647</td>\n",
       "      <td>171.919413</td>\n",
       "      <td>...</td>\n",
       "      <td>32</td>\n",
       "      <td>178326.875</td>\n",
       "      <td>5.034269e+05</td>\n",
       "      <td>1424245</td>\n",
       "      <td>325</td>\n",
       "      <td>13800000.0</td>\n",
       "      <td>4.229413e+06</td>\n",
       "      <td>16500000</td>\n",
       "      <td>6945512</td>\n",
       "      <td>BENIGN</td>\n",
       "    </tr>\n",
       "    <tr>\n",
       "      <th>2</th>\n",
       "      <td>0</td>\n",
       "      <td>119945515</td>\n",
       "      <td>150</td>\n",
       "      <td>0</td>\n",
       "      <td>0</td>\n",
       "      <td>0</td>\n",
       "      <td>0</td>\n",
       "      <td>0</td>\n",
       "      <td>0.000000</td>\n",
       "      <td>0.000000</td>\n",
       "      <td>...</td>\n",
       "      <td>0</td>\n",
       "      <td>6909777.333</td>\n",
       "      <td>1.170000e+07</td>\n",
       "      <td>20400000</td>\n",
       "      <td>6</td>\n",
       "      <td>24400000.0</td>\n",
       "      <td>2.430000e+07</td>\n",
       "      <td>60100000</td>\n",
       "      <td>5702188</td>\n",
       "      <td>BENIGN</td>\n",
       "    </tr>\n",
       "    <tr>\n",
       "      <th>3</th>\n",
       "      <td>443</td>\n",
       "      <td>60261928</td>\n",
       "      <td>9</td>\n",
       "      <td>7</td>\n",
       "      <td>2330</td>\n",
       "      <td>4221</td>\n",
       "      <td>1093</td>\n",
       "      <td>0</td>\n",
       "      <td>258.888889</td>\n",
       "      <td>409.702162</td>\n",
       "      <td>...</td>\n",
       "      <td>20</td>\n",
       "      <td>0.000</td>\n",
       "      <td>0.000000e+00</td>\n",
       "      <td>0</td>\n",
       "      <td>0</td>\n",
       "      <td>0.0</td>\n",
       "      <td>0.000000e+00</td>\n",
       "      <td>0</td>\n",
       "      <td>0</td>\n",
       "      <td>BENIGN</td>\n",
       "    </tr>\n",
       "    <tr>\n",
       "      <th>4</th>\n",
       "      <td>53</td>\n",
       "      <td>269</td>\n",
       "      <td>2</td>\n",
       "      <td>2</td>\n",
       "      <td>102</td>\n",
       "      <td>322</td>\n",
       "      <td>51</td>\n",
       "      <td>51</td>\n",
       "      <td>51.000000</td>\n",
       "      <td>0.000000</td>\n",
       "      <td>...</td>\n",
       "      <td>32</td>\n",
       "      <td>0.000</td>\n",
       "      <td>0.000000e+00</td>\n",
       "      <td>0</td>\n",
       "      <td>0</td>\n",
       "      <td>0.0</td>\n",
       "      <td>0.000000e+00</td>\n",
       "      <td>0</td>\n",
       "      <td>0</td>\n",
       "      <td>BENIGN</td>\n",
       "    </tr>\n",
       "  </tbody>\n",
       "</table>\n",
       "<p>5 rows × 79 columns</p>\n",
       "</div>"
      ],
      "text/plain": [
       "    Destination Port   Flow Duration   Total Fwd Packets  \\\n",
       "0                389       113095465                  48   \n",
       "1                389       113473706                  68   \n",
       "2                  0       119945515                 150   \n",
       "3                443        60261928                   9   \n",
       "4                 53             269                   2   \n",
       "\n",
       "    Total Backward Packets  Total Length of Fwd Packets  \\\n",
       "0                       24                         9668   \n",
       "1                       40                        11364   \n",
       "2                        0                            0   \n",
       "3                        7                         2330   \n",
       "4                        2                          102   \n",
       "\n",
       "    Total Length of Bwd Packets   Fwd Packet Length Max  \\\n",
       "0                         10012                     403   \n",
       "1                         12718                     403   \n",
       "2                             0                       0   \n",
       "3                          4221                    1093   \n",
       "4                           322                      51   \n",
       "\n",
       "    Fwd Packet Length Min   Fwd Packet Length Mean   Fwd Packet Length Std  \\\n",
       "0                       0               201.416667              203.548293   \n",
       "1                       0               167.117647              171.919413   \n",
       "2                       0                 0.000000                0.000000   \n",
       "3                       0               258.888889              409.702162   \n",
       "4                      51                51.000000                0.000000   \n",
       "\n",
       "    ...     min_seg_size_forward  Active Mean    Active Std   Active Max  \\\n",
       "0   ...                       32   203985.500  5.758373e+05      1629110   \n",
       "1   ...                       32   178326.875  5.034269e+05      1424245   \n",
       "2   ...                        0  6909777.333  1.170000e+07     20400000   \n",
       "3   ...                       20        0.000  0.000000e+00            0   \n",
       "4   ...                       32        0.000  0.000000e+00            0   \n",
       "\n",
       "   Active Min   Idle Mean      Idle Std   Idle Max   Idle Min   Label  \n",
       "0         379  13800000.0  4.277541e+06   16500000    6737603  BENIGN  \n",
       "1         325  13800000.0  4.229413e+06   16500000    6945512  BENIGN  \n",
       "2           6  24400000.0  2.430000e+07   60100000    5702188  BENIGN  \n",
       "3           0         0.0  0.000000e+00          0          0  BENIGN  \n",
       "4           0         0.0  0.000000e+00          0          0  BENIGN  \n",
       "\n",
       "[5 rows x 79 columns]"
      ]
     },
     "execution_count": 2,
     "metadata": {},
     "output_type": "execute_result"
    }
   ],
   "source": [
    "data = pd.read_csv('Thursday-WorkingHours-Morning-WebAttacks.pcap_ISCX.csv', encoding='utf-8')\n",
    "data.head()"
   ]
  },
  {
   "cell_type": "code",
   "execution_count": 3,
   "metadata": {
    "scrolled": true
   },
   "outputs": [
    {
     "data": {
      "text/plain": [
       "170366"
      ]
     },
     "execution_count": 3,
     "metadata": {},
     "output_type": "execute_result"
    }
   ],
   "source": [
    "data.shape[0]"
   ]
  },
  {
   "cell_type": "code",
   "execution_count": 4,
   "metadata": {},
   "outputs": [
    {
     "data": {
      "text/plain": [
       "array(['BENIGN', 'Web Attack � Brute Force', 'Web Attack � XSS',\n",
       "       'Web Attack � Sql Injection'], dtype=object)"
      ]
     },
     "execution_count": 4,
     "metadata": {},
     "output_type": "execute_result"
    }
   ],
   "source": [
    "colnamelist = []\n",
    "for colname in data.columns:\n",
    "    if colname[0] == ' ':\n",
    "        colnamelist.append(colname[1:])\n",
    "    else:\n",
    "        colnamelist.append(colname)\n",
    "data.columns = colnamelist\n",
    "data['Label'].unique()"
   ]
  },
  {
   "cell_type": "code",
   "execution_count": 5,
   "metadata": {},
   "outputs": [
    {
     "name": "stderr",
     "output_type": "stream",
     "text": [
      "/Users/pqros/anaconda3/lib/python3.6/site-packages/ipykernel_launcher.py:7: SettingWithCopyWarning: \n",
      "A value is trying to be set on a copy of a slice from a DataFrame\n",
      "\n",
      "See the caveats in the documentation: http://pandas.pydata.org/pandas-docs/stable/indexing.html#indexing-view-versus-copy\n",
      "  import sys\n"
     ]
    },
    {
     "data": {
      "text/plain": [
       "array([0, 1, 2, 3], dtype=object)"
      ]
     },
     "execution_count": 5,
     "metadata": {},
     "output_type": "execute_result"
    }
   ],
   "source": [
    "y = data['Label']\n",
    "ylabel = y.unique()\n",
    "ylabel\n",
    "ylabel_corrected = ['BENIGN', 'Web Attack Brute Force', 'Web Attack XSS',\n",
    "       'Web Attack Sql Injection']\n",
    "for i in range(4):\n",
    "    y[y == ylabel[i]] = i\n",
    "data['Label'] = y\n",
    "data['Label'].unique()"
   ]
  },
  {
   "cell_type": "code",
   "execution_count": 6,
   "metadata": {},
   "outputs": [
    {
     "data": {
      "text/plain": [
       "170346"
      ]
     },
     "execution_count": 6,
     "metadata": {},
     "output_type": "execute_result"
    }
   ],
   "source": [
    "#1. Supprimer toutes les lignes contenant au moins une valeur Inf ou NaN. \n",
    "data.replace(np.inf, np.nan, inplace=True)\n",
    "data.replace(-np.inf, np.nan, inplace=True)\n",
    "data = data.dropna(axis = 0, how = 'any')\n",
    "data.shape[0]\n"
   ]
  },
  {
   "cell_type": "code",
   "execution_count": 7,
   "metadata": {},
   "outputs": [
    {
     "data": {
      "text/plain": [
       "(False, True)"
      ]
     },
     "execution_count": 7,
     "metadata": {},
     "output_type": "execute_result"
    }
   ],
   "source": [
    "Z = data.as_matrix().astype(np.float)\n",
    "np.isnan(Z).any(), np.isinf(Z).any()"
   ]
  },
  {
   "cell_type": "code",
   "execution_count": 8,
   "metadata": {},
   "outputs": [
    {
     "data": {
      "text/plain": [
       "(170231, False)"
      ]
     },
     "execution_count": 8,
     "metadata": {},
     "output_type": "execute_result"
    }
   ],
   "source": [
    "mask = []\n",
    "for i in range(Z.shape[0]):\n",
    "    if np.isinf(Z[i]).any():\n",
    "        mask.append(i)\n",
    "Z = np.delete(Z, mask, axis = 0)\n",
    "Z.shape[0], np.isinf(Z).any()"
   ]
  },
  {
   "cell_type": "code",
   "execution_count": 9,
   "metadata": {},
   "outputs": [],
   "source": [
    "#Construct X and y\n",
    "X = Z[:, :-1]\n",
    "y = Z[:, -1]"
   ]
  },
  {
   "cell_type": "code",
   "execution_count": 10,
   "metadata": {},
   "outputs": [],
   "source": [
    "#2. Supprimer toutes les colonnes avec des valeurs non numériques sauf le label (nom de l'attaque, ou \"benign\") afin d'obtenir un format du type Z = [ [log, label] ] , où log n'a que des valeurs numériques\n",
    "\n",
    "#There isn't any non-numeric vaviables in the table except 'Label'"
   ]
  },
  {
   "cell_type": "code",
   "execution_count": 11,
   "metadata": {},
   "outputs": [
    {
     "data": {
      "text/plain": [
       "((119161, 78), (51070, 78))"
      ]
     },
     "execution_count": 11,
     "metadata": {},
     "output_type": "execute_result"
    }
   ],
   "source": [
    "#3. Utiliser la fonction train_test_split de scikit-learn en prenant 70% des flux pour train et 30% pour test. Au résultat, vous devez avoir 4 conteneurs : X_train, Y_train, X_test, Y_test\n",
    "X_train, X_test, y_train, y_test = train_test_split(X, y, test_size=0.3)\n",
    "X_train.shape, X_test.shape"
   ]
  },
  {
   "cell_type": "code",
   "execution_count": 12,
   "metadata": {},
   "outputs": [],
   "source": [
    "#Logistic Regression\n",
    "lr = LogisticRegression().fit(X_train, y_train)"
   ]
  },
  {
   "cell_type": "code",
   "execution_count": 13,
   "metadata": {},
   "outputs": [],
   "source": [
    "y_train_ = lr.predict(X_train)\n",
    "y_test_ = lr.predict(X_test)"
   ]
  },
  {
   "cell_type": "code",
   "execution_count": 14,
   "metadata": {},
   "outputs": [],
   "source": [
    "from sklearn.metrics import accuracy_score"
   ]
  },
  {
   "cell_type": "code",
   "execution_count": 15,
   "metadata": {},
   "outputs": [
    {
     "data": {
      "text/plain": [
       "(0.9930933778669195, 0.9932445662815743)"
      ]
     },
     "execution_count": 15,
     "metadata": {},
     "output_type": "execute_result"
    }
   ],
   "source": [
    "accuracy_train = accuracy_score(y_train, y_train_)\n",
    "accuracy_test = accuracy_score(y_test, y_test_)\n",
    "accuracy_train, accuracy_test"
   ]
  },
  {
   "cell_type": "code",
   "execution_count": 16,
   "metadata": {},
   "outputs": [],
   "source": [
    "#Decision Tree\n",
    "from sklearn.tree import DecisionTreeClassifier"
   ]
  },
  {
   "cell_type": "code",
   "execution_count": 17,
   "metadata": {},
   "outputs": [],
   "source": [
    "dt = DecisionTreeClassifier().fit(X_train, y_train)"
   ]
  },
  {
   "cell_type": "code",
   "execution_count": 18,
   "metadata": {},
   "outputs": [
    {
     "data": {
      "text/plain": [
       "(1.0, 0.9947327197963579)"
      ]
     },
     "execution_count": 18,
     "metadata": {},
     "output_type": "execute_result"
    }
   ],
   "source": [
    "y_train_ = dt.predict(X_train)\n",
    "y_test_ = dt.predict(X_test)\n",
    "accuracy_train = accuracy_score(y_train, y_train_)\n",
    "accuracy_test = accuracy_score(y_test, y_test_)\n",
    "accuracy_train, accuracy_test"
   ]
  },
  {
   "cell_type": "code",
   "execution_count": 19,
   "metadata": {},
   "outputs": [],
   "source": [
    "#Random Forest\n",
    "from sklearn.ensemble import RandomForestClassifier\n",
    "rf = DecisionTreeClassifier().fit(X_train, y_train)"
   ]
  },
  {
   "cell_type": "code",
   "execution_count": 20,
   "metadata": {},
   "outputs": [
    {
     "data": {
      "text/plain": [
       "(1.0, 0.9946935578617584)"
      ]
     },
     "execution_count": 20,
     "metadata": {},
     "output_type": "execute_result"
    }
   ],
   "source": [
    "y_train_ = rf.predict(X_train)\n",
    "y_test_ = rf.predict(X_test)\n",
    "accuracy_train = accuracy_score(y_train, y_train_)\n",
    "accuracy_test = accuracy_score(y_test, y_test_)\n",
    "accuracy_train, accuracy_test"
   ]
  },
  {
   "cell_type": "code",
   "execution_count": 21,
   "metadata": {},
   "outputs": [],
   "source": [
    "#Support Vector Machine\n",
    "from sklearn.svm import LinearSVC\n",
    "SVM = LinearSVC().fit(X_train, y_train)"
   ]
  },
  {
   "cell_type": "code",
   "execution_count": 22,
   "metadata": {},
   "outputs": [
    {
     "data": {
      "text/plain": [
       "(0.986018915584797, 0.9858821225768553)"
      ]
     },
     "execution_count": 22,
     "metadata": {},
     "output_type": "execute_result"
    }
   ],
   "source": [
    "y_train_ = SVM.predict(X_train)\n",
    "y_test_ = SVM.predict(X_test)\n",
    "accuracy_train = accuracy_score(y_train, y_train_)\n",
    "accuracy_test = accuracy_score(y_test, y_test_)\n",
    "accuracy_train, accuracy_test"
   ]
  },
  {
   "cell_type": "markdown",
   "metadata": {},
   "source": [
    "## Remarque\n",
    "Pourquoi le timestamp risque de provoquer une situation de sur-apprentissage dans notre situation ?\n",
    "Comment peut-on utiliser les variables catégorielles dans nos apprentissages ?\n",
    "\n",
    "Observez-vous des différences entre les valeurs de métrique sur le set train, et sur le set test ? Une interprétation ?\n",
    "\n",
    "1. Les données ne sont pas en équilibre : il y a très peu d'échantillons qui sont reconnues comme attaques...\n",
    "\n",
    "2. On utilise la fonction $get_dummy$ pour les mettre en quelques colomnes de $0 - 1$ variables\n",
    "\n",
    "3. Les précisions sont trop proche de 1. On peut en déduire peu."
   ]
  }
 ],
 "metadata": {
  "kernelspec": {
   "display_name": "Python 3",
   "language": "python",
   "name": "python3"
  },
  "language_info": {
   "codemirror_mode": {
    "name": "ipython",
    "version": 3
   },
   "file_extension": ".py",
   "mimetype": "text/x-python",
   "name": "python",
   "nbconvert_exporter": "python",
   "pygments_lexer": "ipython3",
   "version": "3.6.4"
  }
 },
 "nbformat": 4,
 "nbformat_minor": 2
}
