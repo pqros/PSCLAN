{
 "cells": [
  {
   "cell_type": "markdown",
   "metadata": {},
   "source": [
    "## TD2 TD3 TD4"
   ]
  },
  {
   "cell_type": "code",
   "execution_count": 10,
   "metadata": {},
   "outputs": [],
   "source": [
    "import os\n",
    "import numpy as np\n",
    "import pandas as pd\n",
    "import matplotlib.pyplot as plt\n",
    "from sklearn.model_selection import train_test_split\n",
    "from sklearn.linear_model import LogisticRegression"
   ]
  },
  {
   "cell_type": "code",
   "execution_count": 4,
   "metadata": {
    "scrolled": true
   },
   "outputs": [
    {
     "data": {
      "text/plain": [
       "['Thursday-WorkingHours-Afternoon-Infilteration.pcap_ISCX.csv',\n",
       " 'Monday-WorkingHours.pcap_ISCX.csv',\n",
       " 'Friday-WorkingHours-Morning.pcap_ISCX.csv',\n",
       " 'Friday-WorkingHours-Afternoon-PortScan.pcap_ISCX.csv',\n",
       " 'Friday-WorkingHours-Afternoon-DDos.pcap_ISCX.csv',\n",
       " 'Tuesday-WorkingHours.pcap_ISCX.csv',\n",
       " 'Wednesday-workingHours.pcap_ISCX.csv',\n",
       " 'Thursday-WorkingHours-Morning-WebAttacks.pcap_ISCX.csv']"
      ]
     },
     "execution_count": 4,
     "metadata": {},
     "output_type": "execute_result"
    }
   ],
   "source": [
    "os.chdir('./')\n",
    "file_chdir = os.getcwd() #current folder\n",
    "csv_list = []\n",
    "for root, dirs, files in os.walk(file_chdir):\n",
    "    for file in files:\n",
    "        if os.path.splitext(file)[1] == '.csv':\n",
    "            csv_list.append(file)\n",
    "csv_list"
   ]
  },
  {
   "cell_type": "code",
   "execution_count": 32,
   "metadata": {
    "scrolled": true
   },
   "outputs": [
    {
     "name": "stderr",
     "output_type": "stream",
     "text": [
      "/Users/pqros/anaconda3/lib/python3.6/site-packages/IPython/core/interactiveshell.py:2728: DtypeWarning: Columns (0,1,3,6,20,21,84) have mixed types. Specify dtype option on import or set low_memory=False.\n",
      "  interactivity=interactivity, compiler=compiler, result=result)\n"
     ]
    },
    {
     "data": {
      "text/html": [
       "<div>\n",
       "<style scoped>\n",
       "    .dataframe tbody tr th:only-of-type {\n",
       "        vertical-align: middle;\n",
       "    }\n",
       "\n",
       "    .dataframe tbody tr th {\n",
       "        vertical-align: top;\n",
       "    }\n",
       "\n",
       "    .dataframe thead th {\n",
       "        text-align: right;\n",
       "    }\n",
       "</style>\n",
       "<table border=\"1\" class=\"dataframe\">\n",
       "  <thead>\n",
       "    <tr style=\"text-align: right;\">\n",
       "      <th></th>\n",
       "      <th>Flow ID</th>\n",
       "      <th>Source IP</th>\n",
       "      <th>Source Port</th>\n",
       "      <th>Destination IP</th>\n",
       "      <th>Destination Port</th>\n",
       "      <th>Protocol</th>\n",
       "      <th>Timestamp</th>\n",
       "      <th>Flow Duration</th>\n",
       "      <th>Total Fwd Packets</th>\n",
       "      <th>Total Backward Packets</th>\n",
       "      <th>...</th>\n",
       "      <th>min_seg_size_forward</th>\n",
       "      <th>Active Mean</th>\n",
       "      <th>Active Std</th>\n",
       "      <th>Active Max</th>\n",
       "      <th>Active Min</th>\n",
       "      <th>Idle Mean</th>\n",
       "      <th>Idle Std</th>\n",
       "      <th>Idle Max</th>\n",
       "      <th>Idle Min</th>\n",
       "      <th>Label</th>\n",
       "    </tr>\n",
       "  </thead>\n",
       "  <tbody>\n",
       "    <tr>\n",
       "      <th>0</th>\n",
       "      <td>192.168.10.3-192.168.10.50-389-33898-6</td>\n",
       "      <td>192.168.10.50</td>\n",
       "      <td>33898.0</td>\n",
       "      <td>192.168.10.3</td>\n",
       "      <td>389.0</td>\n",
       "      <td>6.0</td>\n",
       "      <td>6/7/2017 8:59</td>\n",
       "      <td>113095465.0</td>\n",
       "      <td>48.0</td>\n",
       "      <td>24.0</td>\n",
       "      <td>...</td>\n",
       "      <td>32.0</td>\n",
       "      <td>203985.500</td>\n",
       "      <td>5.758373e+05</td>\n",
       "      <td>1629110.0</td>\n",
       "      <td>379.0</td>\n",
       "      <td>13800000.0</td>\n",
       "      <td>4.277541e+06</td>\n",
       "      <td>16500000.0</td>\n",
       "      <td>6737603.0</td>\n",
       "      <td>BENIGN</td>\n",
       "    </tr>\n",
       "    <tr>\n",
       "      <th>1</th>\n",
       "      <td>192.168.10.3-192.168.10.50-389-33904-6</td>\n",
       "      <td>192.168.10.50</td>\n",
       "      <td>33904.0</td>\n",
       "      <td>192.168.10.3</td>\n",
       "      <td>389.0</td>\n",
       "      <td>6.0</td>\n",
       "      <td>6/7/2017 8:59</td>\n",
       "      <td>113473706.0</td>\n",
       "      <td>68.0</td>\n",
       "      <td>40.0</td>\n",
       "      <td>...</td>\n",
       "      <td>32.0</td>\n",
       "      <td>178326.875</td>\n",
       "      <td>5.034269e+05</td>\n",
       "      <td>1424245.0</td>\n",
       "      <td>325.0</td>\n",
       "      <td>13800000.0</td>\n",
       "      <td>4.229413e+06</td>\n",
       "      <td>16500000.0</td>\n",
       "      <td>6945512.0</td>\n",
       "      <td>BENIGN</td>\n",
       "    </tr>\n",
       "    <tr>\n",
       "      <th>2</th>\n",
       "      <td>8.0.6.4-8.6.0.1-0-0-0</td>\n",
       "      <td>8.6.0.1</td>\n",
       "      <td>0.0</td>\n",
       "      <td>8.0.6.4</td>\n",
       "      <td>0.0</td>\n",
       "      <td>0.0</td>\n",
       "      <td>6/7/2017 8:59</td>\n",
       "      <td>119945515.0</td>\n",
       "      <td>150.0</td>\n",
       "      <td>0.0</td>\n",
       "      <td>...</td>\n",
       "      <td>0.0</td>\n",
       "      <td>6909777.333</td>\n",
       "      <td>1.170000e+07</td>\n",
       "      <td>20400000.0</td>\n",
       "      <td>6.0</td>\n",
       "      <td>24400000.0</td>\n",
       "      <td>2.430000e+07</td>\n",
       "      <td>60100000.0</td>\n",
       "      <td>5702188.0</td>\n",
       "      <td>BENIGN</td>\n",
       "    </tr>\n",
       "    <tr>\n",
       "      <th>3</th>\n",
       "      <td>192.168.10.14-65.55.44.109-59135-443-6</td>\n",
       "      <td>192.168.10.14</td>\n",
       "      <td>59135.0</td>\n",
       "      <td>65.55.44.109</td>\n",
       "      <td>443.0</td>\n",
       "      <td>6.0</td>\n",
       "      <td>6/7/2017 8:59</td>\n",
       "      <td>60261928.0</td>\n",
       "      <td>9.0</td>\n",
       "      <td>7.0</td>\n",
       "      <td>...</td>\n",
       "      <td>20.0</td>\n",
       "      <td>0.000</td>\n",
       "      <td>0.000000e+00</td>\n",
       "      <td>0.0</td>\n",
       "      <td>0.0</td>\n",
       "      <td>0.0</td>\n",
       "      <td>0.000000e+00</td>\n",
       "      <td>0.0</td>\n",
       "      <td>0.0</td>\n",
       "      <td>BENIGN</td>\n",
       "    </tr>\n",
       "    <tr>\n",
       "      <th>4</th>\n",
       "      <td>192.168.10.3-192.168.10.14-53-59555-17</td>\n",
       "      <td>192.168.10.14</td>\n",
       "      <td>59555.0</td>\n",
       "      <td>192.168.10.3</td>\n",
       "      <td>53.0</td>\n",
       "      <td>17.0</td>\n",
       "      <td>6/7/2017 8:59</td>\n",
       "      <td>269.0</td>\n",
       "      <td>2.0</td>\n",
       "      <td>2.0</td>\n",
       "      <td>...</td>\n",
       "      <td>32.0</td>\n",
       "      <td>0.000</td>\n",
       "      <td>0.000000e+00</td>\n",
       "      <td>0.0</td>\n",
       "      <td>0.0</td>\n",
       "      <td>0.0</td>\n",
       "      <td>0.000000e+00</td>\n",
       "      <td>0.0</td>\n",
       "      <td>0.0</td>\n",
       "      <td>BENIGN</td>\n",
       "    </tr>\n",
       "  </tbody>\n",
       "</table>\n",
       "<p>5 rows × 85 columns</p>\n",
       "</div>"
      ],
      "text/plain": [
       "                                  Flow ID      Source IP   Source Port  \\\n",
       "0  192.168.10.3-192.168.10.50-389-33898-6  192.168.10.50       33898.0   \n",
       "1  192.168.10.3-192.168.10.50-389-33904-6  192.168.10.50       33904.0   \n",
       "2                   8.0.6.4-8.6.0.1-0-0-0        8.6.0.1           0.0   \n",
       "3  192.168.10.14-65.55.44.109-59135-443-6  192.168.10.14       59135.0   \n",
       "4  192.168.10.3-192.168.10.14-53-59555-17  192.168.10.14       59555.0   \n",
       "\n",
       "   Destination IP   Destination Port   Protocol      Timestamp  \\\n",
       "0    192.168.10.3              389.0        6.0  6/7/2017 8:59   \n",
       "1    192.168.10.3              389.0        6.0  6/7/2017 8:59   \n",
       "2         8.0.6.4                0.0        0.0  6/7/2017 8:59   \n",
       "3    65.55.44.109              443.0        6.0  6/7/2017 8:59   \n",
       "4    192.168.10.3               53.0       17.0  6/7/2017 8:59   \n",
       "\n",
       "    Flow Duration   Total Fwd Packets   Total Backward Packets   ...    \\\n",
       "0     113095465.0                48.0                     24.0   ...     \n",
       "1     113473706.0                68.0                     40.0   ...     \n",
       "2     119945515.0               150.0                      0.0   ...     \n",
       "3      60261928.0                 9.0                      7.0   ...     \n",
       "4           269.0                 2.0                      2.0   ...     \n",
       "\n",
       "    min_seg_size_forward  Active Mean    Active Std   Active Max   Active Min  \\\n",
       "0                   32.0   203985.500  5.758373e+05    1629110.0        379.0   \n",
       "1                   32.0   178326.875  5.034269e+05    1424245.0        325.0   \n",
       "2                    0.0  6909777.333  1.170000e+07   20400000.0          6.0   \n",
       "3                   20.0        0.000  0.000000e+00          0.0          0.0   \n",
       "4                   32.0        0.000  0.000000e+00          0.0          0.0   \n",
       "\n",
       "    Idle Mean      Idle Std    Idle Max   Idle Min   Label  \n",
       "0  13800000.0  4.277541e+06  16500000.0  6737603.0  BENIGN  \n",
       "1  13800000.0  4.229413e+06  16500000.0  6945512.0  BENIGN  \n",
       "2  24400000.0  2.430000e+07  60100000.0  5702188.0  BENIGN  \n",
       "3         0.0  0.000000e+00         0.0        0.0  BENIGN  \n",
       "4         0.0  0.000000e+00         0.0        0.0  BENIGN  \n",
       "\n",
       "[5 rows x 85 columns]"
      ]
     },
     "execution_count": 32,
     "metadata": {},
     "output_type": "execute_result"
    }
   ],
   "source": [
    "data = pd.read_csv(csv_list[-1], encoding='ISO-8859-1')\n",
    "nrow = data.shape[0] #row number\n",
    "ncol = data.shape[1] #column number\n",
    "data.head()"
   ]
  },
  {
   "cell_type": "code",
   "execution_count": 33,
   "metadata": {
    "scrolled": true
   },
   "outputs": [
    {
     "data": {
      "text/html": [
       "<div>\n",
       "<style scoped>\n",
       "    .dataframe tbody tr th:only-of-type {\n",
       "        vertical-align: middle;\n",
       "    }\n",
       "\n",
       "    .dataframe tbody tr th {\n",
       "        vertical-align: top;\n",
       "    }\n",
       "\n",
       "    .dataframe thead th {\n",
       "        text-align: right;\n",
       "    }\n",
       "</style>\n",
       "<table border=\"1\" class=\"dataframe\">\n",
       "  <thead>\n",
       "    <tr style=\"text-align: right;\">\n",
       "      <th></th>\n",
       "      <th>Flow ID</th>\n",
       "      <th>Source IP</th>\n",
       "      <th>Source Port</th>\n",
       "      <th>Destination IP</th>\n",
       "      <th>Destination Port</th>\n",
       "      <th>Protocol</th>\n",
       "      <th>Timestamp</th>\n",
       "      <th>Flow Duration</th>\n",
       "      <th>Total Fwd Packets</th>\n",
       "      <th>Total Backward Packets</th>\n",
       "      <th>...</th>\n",
       "      <th>min_seg_size_forward</th>\n",
       "      <th>Active Mean</th>\n",
       "      <th>Active Std</th>\n",
       "      <th>Active Max</th>\n",
       "      <th>Active Min</th>\n",
       "      <th>Idle Mean</th>\n",
       "      <th>Idle Std</th>\n",
       "      <th>Idle Max</th>\n",
       "      <th>Idle Min</th>\n",
       "      <th>Label</th>\n",
       "    </tr>\n",
       "  </thead>\n",
       "  <tbody>\n",
       "    <tr>\n",
       "      <th>0</th>\n",
       "      <td>192.168.10.3-192.168.10.50-389-33898-6</td>\n",
       "      <td>192.168.10.50</td>\n",
       "      <td>33898.0</td>\n",
       "      <td>192.168.10.3</td>\n",
       "      <td>389.0</td>\n",
       "      <td>6.0</td>\n",
       "      <td>6/7/2017 8:59</td>\n",
       "      <td>113095465.0</td>\n",
       "      <td>48.0</td>\n",
       "      <td>24.0</td>\n",
       "      <td>...</td>\n",
       "      <td>32.0</td>\n",
       "      <td>203985.500</td>\n",
       "      <td>5.758373e+05</td>\n",
       "      <td>1629110.0</td>\n",
       "      <td>379.0</td>\n",
       "      <td>13800000.0</td>\n",
       "      <td>4.277541e+06</td>\n",
       "      <td>16500000.0</td>\n",
       "      <td>6737603.0</td>\n",
       "      <td>BENIGN</td>\n",
       "    </tr>\n",
       "    <tr>\n",
       "      <th>1</th>\n",
       "      <td>192.168.10.3-192.168.10.50-389-33904-6</td>\n",
       "      <td>192.168.10.50</td>\n",
       "      <td>33904.0</td>\n",
       "      <td>192.168.10.3</td>\n",
       "      <td>389.0</td>\n",
       "      <td>6.0</td>\n",
       "      <td>6/7/2017 8:59</td>\n",
       "      <td>113473706.0</td>\n",
       "      <td>68.0</td>\n",
       "      <td>40.0</td>\n",
       "      <td>...</td>\n",
       "      <td>32.0</td>\n",
       "      <td>178326.875</td>\n",
       "      <td>5.034269e+05</td>\n",
       "      <td>1424245.0</td>\n",
       "      <td>325.0</td>\n",
       "      <td>13800000.0</td>\n",
       "      <td>4.229413e+06</td>\n",
       "      <td>16500000.0</td>\n",
       "      <td>6945512.0</td>\n",
       "      <td>BENIGN</td>\n",
       "    </tr>\n",
       "    <tr>\n",
       "      <th>2</th>\n",
       "      <td>8.0.6.4-8.6.0.1-0-0-0</td>\n",
       "      <td>8.6.0.1</td>\n",
       "      <td>0.0</td>\n",
       "      <td>8.0.6.4</td>\n",
       "      <td>0.0</td>\n",
       "      <td>0.0</td>\n",
       "      <td>6/7/2017 8:59</td>\n",
       "      <td>119945515.0</td>\n",
       "      <td>150.0</td>\n",
       "      <td>0.0</td>\n",
       "      <td>...</td>\n",
       "      <td>0.0</td>\n",
       "      <td>6909777.333</td>\n",
       "      <td>1.170000e+07</td>\n",
       "      <td>20400000.0</td>\n",
       "      <td>6.0</td>\n",
       "      <td>24400000.0</td>\n",
       "      <td>2.430000e+07</td>\n",
       "      <td>60100000.0</td>\n",
       "      <td>5702188.0</td>\n",
       "      <td>BENIGN</td>\n",
       "    </tr>\n",
       "    <tr>\n",
       "      <th>3</th>\n",
       "      <td>192.168.10.14-65.55.44.109-59135-443-6</td>\n",
       "      <td>192.168.10.14</td>\n",
       "      <td>59135.0</td>\n",
       "      <td>65.55.44.109</td>\n",
       "      <td>443.0</td>\n",
       "      <td>6.0</td>\n",
       "      <td>6/7/2017 8:59</td>\n",
       "      <td>60261928.0</td>\n",
       "      <td>9.0</td>\n",
       "      <td>7.0</td>\n",
       "      <td>...</td>\n",
       "      <td>20.0</td>\n",
       "      <td>0.000</td>\n",
       "      <td>0.000000e+00</td>\n",
       "      <td>0.0</td>\n",
       "      <td>0.0</td>\n",
       "      <td>0.0</td>\n",
       "      <td>0.000000e+00</td>\n",
       "      <td>0.0</td>\n",
       "      <td>0.0</td>\n",
       "      <td>BENIGN</td>\n",
       "    </tr>\n",
       "    <tr>\n",
       "      <th>4</th>\n",
       "      <td>192.168.10.3-192.168.10.14-53-59555-17</td>\n",
       "      <td>192.168.10.14</td>\n",
       "      <td>59555.0</td>\n",
       "      <td>192.168.10.3</td>\n",
       "      <td>53.0</td>\n",
       "      <td>17.0</td>\n",
       "      <td>6/7/2017 8:59</td>\n",
       "      <td>269.0</td>\n",
       "      <td>2.0</td>\n",
       "      <td>2.0</td>\n",
       "      <td>...</td>\n",
       "      <td>32.0</td>\n",
       "      <td>0.000</td>\n",
       "      <td>0.000000e+00</td>\n",
       "      <td>0.0</td>\n",
       "      <td>0.0</td>\n",
       "      <td>0.0</td>\n",
       "      <td>0.000000e+00</td>\n",
       "      <td>0.0</td>\n",
       "      <td>0.0</td>\n",
       "      <td>BENIGN</td>\n",
       "    </tr>\n",
       "  </tbody>\n",
       "</table>\n",
       "<p>5 rows × 85 columns</p>\n",
       "</div>"
      ],
      "text/plain": [
       "                                  Flow ID      Source IP  Source Port  \\\n",
       "0  192.168.10.3-192.168.10.50-389-33898-6  192.168.10.50      33898.0   \n",
       "1  192.168.10.3-192.168.10.50-389-33904-6  192.168.10.50      33904.0   \n",
       "2                   8.0.6.4-8.6.0.1-0-0-0        8.6.0.1          0.0   \n",
       "3  192.168.10.14-65.55.44.109-59135-443-6  192.168.10.14      59135.0   \n",
       "4  192.168.10.3-192.168.10.14-53-59555-17  192.168.10.14      59555.0   \n",
       "\n",
       "  Destination IP  Destination Port  Protocol      Timestamp  Flow Duration  \\\n",
       "0   192.168.10.3             389.0       6.0  6/7/2017 8:59    113095465.0   \n",
       "1   192.168.10.3             389.0       6.0  6/7/2017 8:59    113473706.0   \n",
       "2        8.0.6.4               0.0       0.0  6/7/2017 8:59    119945515.0   \n",
       "3   65.55.44.109             443.0       6.0  6/7/2017 8:59     60261928.0   \n",
       "4   192.168.10.3              53.0      17.0  6/7/2017 8:59          269.0   \n",
       "\n",
       "   Total Fwd Packets  Total Backward Packets   ...    min_seg_size_forward  \\\n",
       "0               48.0                    24.0   ...                    32.0   \n",
       "1               68.0                    40.0   ...                    32.0   \n",
       "2              150.0                     0.0   ...                     0.0   \n",
       "3                9.0                     7.0   ...                    20.0   \n",
       "4                2.0                     2.0   ...                    32.0   \n",
       "\n",
       "   Active Mean    Active Std  Active Max  Active Min   Idle Mean  \\\n",
       "0   203985.500  5.758373e+05   1629110.0       379.0  13800000.0   \n",
       "1   178326.875  5.034269e+05   1424245.0       325.0  13800000.0   \n",
       "2  6909777.333  1.170000e+07  20400000.0         6.0  24400000.0   \n",
       "3        0.000  0.000000e+00         0.0         0.0         0.0   \n",
       "4        0.000  0.000000e+00         0.0         0.0         0.0   \n",
       "\n",
       "       Idle Std    Idle Max   Idle Min   Label  \n",
       "0  4.277541e+06  16500000.0  6737603.0  BENIGN  \n",
       "1  4.229413e+06  16500000.0  6945512.0  BENIGN  \n",
       "2  2.430000e+07  60100000.0  5702188.0  BENIGN  \n",
       "3  0.000000e+00         0.0        0.0  BENIGN  \n",
       "4  0.000000e+00         0.0        0.0  BENIGN  \n",
       "\n",
       "[5 rows x 85 columns]"
      ]
     },
     "execution_count": 33,
     "metadata": {},
     "output_type": "execute_result"
    }
   ],
   "source": [
    "#Pour tester, on n'importe qu'une table au début\n",
    "colnamelist = []\n",
    "for colname in data.columns:\n",
    "    if colname[0] == ' ':\n",
    "        colnamelist.append(colname[1:])\n",
    "    else:\n",
    "        colnamelist.append(colname)\n",
    "data.columns = colnamelist\n",
    "data.head()"
   ]
  },
  {
   "cell_type": "code",
   "execution_count": 35,
   "metadata": {
    "scrolled": true
   },
   "outputs": [
    {
     "data": {
      "text/html": [
       "<div>\n",
       "<style scoped>\n",
       "    .dataframe tbody tr th:only-of-type {\n",
       "        vertical-align: middle;\n",
       "    }\n",
       "\n",
       "    .dataframe tbody tr th {\n",
       "        vertical-align: top;\n",
       "    }\n",
       "\n",
       "    .dataframe thead th {\n",
       "        text-align: right;\n",
       "    }\n",
       "</style>\n",
       "<table border=\"1\" class=\"dataframe\">\n",
       "  <thead>\n",
       "    <tr style=\"text-align: right;\">\n",
       "      <th></th>\n",
       "      <th>Source Port</th>\n",
       "      <th>Destination Port</th>\n",
       "      <th>Protocol</th>\n",
       "      <th>Flow Duration</th>\n",
       "      <th>Total Fwd Packets</th>\n",
       "      <th>Total Backward Packets</th>\n",
       "      <th>Total Length of Fwd Packets</th>\n",
       "      <th>Total Length of Bwd Packets</th>\n",
       "      <th>Fwd Packet Length Max</th>\n",
       "      <th>Fwd Packet Length Min</th>\n",
       "      <th>...</th>\n",
       "      <th>min_seg_size_forward</th>\n",
       "      <th>Active Mean</th>\n",
       "      <th>Active Std</th>\n",
       "      <th>Active Max</th>\n",
       "      <th>Active Min</th>\n",
       "      <th>Idle Mean</th>\n",
       "      <th>Idle Std</th>\n",
       "      <th>Idle Max</th>\n",
       "      <th>Idle Min</th>\n",
       "      <th>Label</th>\n",
       "    </tr>\n",
       "  </thead>\n",
       "  <tbody>\n",
       "    <tr>\n",
       "      <th>0</th>\n",
       "      <td>33898.0</td>\n",
       "      <td>389.0</td>\n",
       "      <td>6.0</td>\n",
       "      <td>113095465.0</td>\n",
       "      <td>48.0</td>\n",
       "      <td>24.0</td>\n",
       "      <td>9668.0</td>\n",
       "      <td>10012.0</td>\n",
       "      <td>403.0</td>\n",
       "      <td>0.0</td>\n",
       "      <td>...</td>\n",
       "      <td>32.0</td>\n",
       "      <td>203985.500</td>\n",
       "      <td>5.758373e+05</td>\n",
       "      <td>1629110.0</td>\n",
       "      <td>379.0</td>\n",
       "      <td>13800000.0</td>\n",
       "      <td>4.277541e+06</td>\n",
       "      <td>16500000.0</td>\n",
       "      <td>6737603.0</td>\n",
       "      <td>BENIGN</td>\n",
       "    </tr>\n",
       "    <tr>\n",
       "      <th>1</th>\n",
       "      <td>33904.0</td>\n",
       "      <td>389.0</td>\n",
       "      <td>6.0</td>\n",
       "      <td>113473706.0</td>\n",
       "      <td>68.0</td>\n",
       "      <td>40.0</td>\n",
       "      <td>11364.0</td>\n",
       "      <td>12718.0</td>\n",
       "      <td>403.0</td>\n",
       "      <td>0.0</td>\n",
       "      <td>...</td>\n",
       "      <td>32.0</td>\n",
       "      <td>178326.875</td>\n",
       "      <td>5.034269e+05</td>\n",
       "      <td>1424245.0</td>\n",
       "      <td>325.0</td>\n",
       "      <td>13800000.0</td>\n",
       "      <td>4.229413e+06</td>\n",
       "      <td>16500000.0</td>\n",
       "      <td>6945512.0</td>\n",
       "      <td>BENIGN</td>\n",
       "    </tr>\n",
       "    <tr>\n",
       "      <th>2</th>\n",
       "      <td>0.0</td>\n",
       "      <td>0.0</td>\n",
       "      <td>0.0</td>\n",
       "      <td>119945515.0</td>\n",
       "      <td>150.0</td>\n",
       "      <td>0.0</td>\n",
       "      <td>0.0</td>\n",
       "      <td>0.0</td>\n",
       "      <td>0.0</td>\n",
       "      <td>0.0</td>\n",
       "      <td>...</td>\n",
       "      <td>0.0</td>\n",
       "      <td>6909777.333</td>\n",
       "      <td>1.170000e+07</td>\n",
       "      <td>20400000.0</td>\n",
       "      <td>6.0</td>\n",
       "      <td>24400000.0</td>\n",
       "      <td>2.430000e+07</td>\n",
       "      <td>60100000.0</td>\n",
       "      <td>5702188.0</td>\n",
       "      <td>BENIGN</td>\n",
       "    </tr>\n",
       "    <tr>\n",
       "      <th>3</th>\n",
       "      <td>59135.0</td>\n",
       "      <td>443.0</td>\n",
       "      <td>6.0</td>\n",
       "      <td>60261928.0</td>\n",
       "      <td>9.0</td>\n",
       "      <td>7.0</td>\n",
       "      <td>2330.0</td>\n",
       "      <td>4221.0</td>\n",
       "      <td>1093.0</td>\n",
       "      <td>0.0</td>\n",
       "      <td>...</td>\n",
       "      <td>20.0</td>\n",
       "      <td>0.000</td>\n",
       "      <td>0.000000e+00</td>\n",
       "      <td>0.0</td>\n",
       "      <td>0.0</td>\n",
       "      <td>0.0</td>\n",
       "      <td>0.000000e+00</td>\n",
       "      <td>0.0</td>\n",
       "      <td>0.0</td>\n",
       "      <td>BENIGN</td>\n",
       "    </tr>\n",
       "    <tr>\n",
       "      <th>4</th>\n",
       "      <td>59555.0</td>\n",
       "      <td>53.0</td>\n",
       "      <td>17.0</td>\n",
       "      <td>269.0</td>\n",
       "      <td>2.0</td>\n",
       "      <td>2.0</td>\n",
       "      <td>102.0</td>\n",
       "      <td>322.0</td>\n",
       "      <td>51.0</td>\n",
       "      <td>51.0</td>\n",
       "      <td>...</td>\n",
       "      <td>32.0</td>\n",
       "      <td>0.000</td>\n",
       "      <td>0.000000e+00</td>\n",
       "      <td>0.0</td>\n",
       "      <td>0.0</td>\n",
       "      <td>0.0</td>\n",
       "      <td>0.000000e+00</td>\n",
       "      <td>0.0</td>\n",
       "      <td>0.0</td>\n",
       "      <td>BENIGN</td>\n",
       "    </tr>\n",
       "  </tbody>\n",
       "</table>\n",
       "<p>5 rows × 79 columns</p>\n",
       "</div>"
      ],
      "text/plain": [
       "   Source Port  Destination Port  Protocol  Flow Duration  Total Fwd Packets  \\\n",
       "0      33898.0             389.0       6.0    113095465.0               48.0   \n",
       "1      33904.0             389.0       6.0    113473706.0               68.0   \n",
       "2          0.0               0.0       0.0    119945515.0              150.0   \n",
       "3      59135.0             443.0       6.0     60261928.0                9.0   \n",
       "4      59555.0              53.0      17.0          269.0                2.0   \n",
       "\n",
       "   Total Backward Packets  Total Length of Fwd Packets  \\\n",
       "0                    24.0                       9668.0   \n",
       "1                    40.0                      11364.0   \n",
       "2                     0.0                          0.0   \n",
       "3                     7.0                       2330.0   \n",
       "4                     2.0                        102.0   \n",
       "\n",
       "   Total Length of Bwd Packets  Fwd Packet Length Max  Fwd Packet Length Min  \\\n",
       "0                      10012.0                  403.0                    0.0   \n",
       "1                      12718.0                  403.0                    0.0   \n",
       "2                          0.0                    0.0                    0.0   \n",
       "3                       4221.0                 1093.0                    0.0   \n",
       "4                        322.0                   51.0                   51.0   \n",
       "\n",
       "    ...    min_seg_size_forward  Active Mean    Active Std  Active Max  \\\n",
       "0   ...                    32.0   203985.500  5.758373e+05   1629110.0   \n",
       "1   ...                    32.0   178326.875  5.034269e+05   1424245.0   \n",
       "2   ...                     0.0  6909777.333  1.170000e+07  20400000.0   \n",
       "3   ...                    20.0        0.000  0.000000e+00         0.0   \n",
       "4   ...                    32.0        0.000  0.000000e+00         0.0   \n",
       "\n",
       "   Active Min   Idle Mean      Idle Std    Idle Max   Idle Min   Label  \n",
       "0       379.0  13800000.0  4.277541e+06  16500000.0  6737603.0  BENIGN  \n",
       "1       325.0  13800000.0  4.229413e+06  16500000.0  6945512.0  BENIGN  \n",
       "2         6.0  24400000.0  2.430000e+07  60100000.0  5702188.0  BENIGN  \n",
       "3         0.0         0.0  0.000000e+00         0.0        0.0  BENIGN  \n",
       "4         0.0         0.0  0.000000e+00         0.0        0.0  BENIGN  \n",
       "\n",
       "[5 rows x 79 columns]"
      ]
     },
     "execution_count": 35,
     "metadata": {},
     "output_type": "execute_result"
    }
   ],
   "source": [
    "#Delete non numeric columns\n",
    "labelColumn = data['Label']\n",
    "data = data._get_numeric_data()\n",
    "data['Label'] = labelColumn\n",
    "data.head()"
   ]
  },
  {
   "cell_type": "code",
   "execution_count": 36,
   "metadata": {
    "scrolled": true
   },
   "outputs": [
    {
     "data": {
      "text/plain": [
       "170366"
      ]
     },
     "execution_count": 36,
     "metadata": {},
     "output_type": "execute_result"
    }
   ],
   "source": [
    "# Supprimer toutes les lignes contenant au moins une valeur Inf ou NaN. \n",
    "data.replace(np.inf, np.nan, inplace=True)\n",
    "data.replace(-np.inf, np.nan, inplace=True)\n",
    "data = data.dropna(axis = 0, how = 'any')\n",
    "data.shape[0]"
   ]
  },
  {
   "cell_type": "code",
   "execution_count": 41,
   "metadata": {},
   "outputs": [
    {
     "data": {
      "text/plain": [
       "(False, False)"
      ]
     },
     "execution_count": 41,
     "metadata": {},
     "output_type": "execute_result"
    }
   ],
   "source": [
    "#Training data (X)\n",
    "X = data.drop(['Label'], axis=1).as_matrix().astype(np.float)\n",
    "np.isnan(X).any(), np.isinf(X).any()"
   ]
  },
  {
   "cell_type": "code",
   "execution_count": 42,
   "metadata": {},
   "outputs": [
    {
     "data": {
      "text/plain": [
       "array(['BENIGN', 'Web Attack \\x96 Brute Force', 'Web Attack \\x96 XSS',\n",
       "       'Web Attack \\x96 Sql Injection'], dtype=object)"
      ]
     },
     "execution_count": 42,
     "metadata": {},
     "output_type": "execute_result"
    }
   ],
   "source": [
    "#attack types (y)\n",
    "attackTypes = data['Label'].unique()\n",
    "attackTypes"
   ]
  },
  {
   "cell_type": "code",
   "execution_count": 45,
   "metadata": {},
   "outputs": [],
   "source": [
    "y = data['Label']"
   ]
  },
  {
   "cell_type": "code",
   "execution_count": 46,
   "metadata": {},
   "outputs": [],
   "source": [
    "#Method 1: We consider all 4 different attacks"
   ]
  },
  {
   "cell_type": "code",
   "execution_count": 47,
   "metadata": {},
   "outputs": [
    {
     "data": {
      "text/plain": [
       "((119256, 78), (51110, 78))"
      ]
     },
     "execution_count": 47,
     "metadata": {},
     "output_type": "execute_result"
    }
   ],
   "source": [
    "#Construct cross validation sets\n",
    "X_train, X_test, y_train, y_test = train_test_split(X, y, test_size=0.3)\n",
    "X_train.shape, X_test.shape"
   ]
  },
  {
   "cell_type": "code",
   "execution_count": 48,
   "metadata": {},
   "outputs": [],
   "source": [
    "from sklearn.metrics import confusion_matrix"
   ]
  },
  {
   "cell_type": "code",
   "execution_count": 50,
   "metadata": {},
   "outputs": [
    {
     "data": {
      "text/plain": [
       "array([[50380,    66,     1,     5],\n",
       "       [  161,   316,     0,     1],\n",
       "       [    4,     0,     0,     0],\n",
       "       [  106,    68,     0,     2]])"
      ]
     },
     "execution_count": 50,
     "metadata": {},
     "output_type": "execute_result"
    }
   ],
   "source": [
    "#Logistic Regression\n",
    "logisticRegressionClassifier = LogisticRegression().fit(X_train, y_train)\n",
    "y_trainPredict = logisticRegressionClassifier.predict(X_train)\n",
    "y_testPredict = logisticRegressionClassifier.predict(X_test)"
   ]
  },
  {
   "cell_type": "code",
   "execution_count": 51,
   "metadata": {},
   "outputs": [
    {
     "data": {
      "text/plain": [
       "(array([[117529,    193,      2,     10],\n",
       "        [   360,    669,      0,      0],\n",
       "        [    17,      0,      0,      0],\n",
       "        [   315,    152,      0,      9]]),\n",
       " array([[50380,    66,     1,     5],\n",
       "        [  161,   316,     0,     1],\n",
       "        [    4,     0,     0,     0],\n",
       "        [  106,    68,     0,     2]]))"
      ]
     },
     "execution_count": 51,
     "metadata": {},
     "output_type": "execute_result"
    }
   ],
   "source": [
    "confusion_matrix(y_train, y_trainPredict), confusion_matrix(y_test, y_testPredict)"
   ]
  },
  {
   "cell_type": "code",
   "execution_count": 52,
   "metadata": {},
   "outputs": [],
   "source": [
    "#Decision Tree\n",
    "from sklearn.tree import DecisionTreeClassifier\n",
    "decisionTreeClassifier = DecisionTreeClassifier().fit(X_train, y_train)\n",
    "y_trainPredict_dt = decisionTreeClassifier.predict(X_train)\n",
    "y_testPredict_dt = decisionTreeClassifier.predict(X_test)"
   ]
  },
  {
   "cell_type": "code",
   "execution_count": 53,
   "metadata": {},
   "outputs": [
    {
     "data": {
      "text/plain": [
       "(array([[117734,      0,      0,      0],\n",
       "        [     0,   1029,      0,      0],\n",
       "        [     0,      0,     17,      0],\n",
       "        [     0,      0,      0,    476]]),\n",
       " array([[50439,     8,     2,     3],\n",
       "        [    4,   420,     0,    54],\n",
       "        [    3,     0,     0,     1],\n",
       "        [    0,    53,     0,   123]]))"
      ]
     },
     "execution_count": 53,
     "metadata": {},
     "output_type": "execute_result"
    }
   ],
   "source": [
    "confusion_matrix(y_train, y_trainPredict_dt), confusion_matrix(y_test, y_testPredict_dt)"
   ]
  },
  {
   "cell_type": "code",
   "execution_count": 54,
   "metadata": {},
   "outputs": [],
   "source": [
    "#Random Forest\n",
    "from sklearn.ensemble import RandomForestClassifier\n",
    "randomForestClassifier = RandomForestClassifier().fit(X_train, y_train)\n",
    "y_trainPredict_rf = randomForestClassifier.predict(X_train)\n",
    "y_testPredict_rf = randomForestClassifier.predict(X_test)"
   ]
  },
  {
   "cell_type": "code",
   "execution_count": 55,
   "metadata": {},
   "outputs": [
    {
     "data": {
      "text/plain": [
       "(array([[117734,      0,      0,      0],\n",
       "        [     3,   1021,      0,      5],\n",
       "        [     0,      0,     17,      0],\n",
       "        [     2,     13,      0,    461]]),\n",
       " array([[50447,     2,     0,     3],\n",
       "        [    6,   417,     0,    55],\n",
       "        [    2,     0,     2,     0],\n",
       "        [    2,    67,     0,   107]]))"
      ]
     },
     "execution_count": 55,
     "metadata": {},
     "output_type": "execute_result"
    }
   ],
   "source": [
    "confusion_matrix(y_train, y_trainPredict_rf), confusion_matrix(y_test, y_testPredict_rf)"
   ]
  },
  {
   "cell_type": "code",
   "execution_count": 56,
   "metadata": {},
   "outputs": [],
   "source": [
    "#Support Vector Machine (very slow!!!)\n",
    "from sklearn.svm import LinearSVC\n",
    "svmClassier = LinearSVC().fit(X_train, y_train)\n",
    "y_trainPredict_svm = svmClassier.predict(X_train)\n",
    "y_testPredict_svm = svmClassier.predict(X_test)"
   ]
  },
  {
   "cell_type": "code",
   "execution_count": 57,
   "metadata": {
    "scrolled": true
   },
   "outputs": [
    {
     "data": {
      "text/plain": [
       "(array([[115469,    152,     19,   2094],\n",
       "        [   156,     55,      0,    818],\n",
       "        [    15,      2,      0,      0],\n",
       "        [    30,     11,      0,    435]]),\n",
       " array([[49518,    69,     8,   857],\n",
       "        [   59,    26,     0,   393],\n",
       "        [    4,     0,     0,     0],\n",
       "        [    5,     2,     0,   169]]))"
      ]
     },
     "execution_count": 57,
     "metadata": {},
     "output_type": "execute_result"
    }
   ],
   "source": [
    "confusion_matrix(y_train, y_trainPredict_svm), confusion_matrix(y_test, y_testPredict_svm)"
   ]
  },
  {
   "cell_type": "markdown",
   "metadata": {},
   "source": [
    "## TD3"
   ]
  },
  {
   "cell_type": "markdown",
   "metadata": {},
   "source": [
    "### On essaie de travailler sur toutes les tables"
   ]
  },
  {
   "cell_type": "code",
   "execution_count": 5,
   "metadata": {
    "scrolled": true
   },
   "outputs": [
    {
     "name": "stderr",
     "output_type": "stream",
     "text": [
      "/Users/pqros/anaconda3/lib/python3.6/site-packages/IPython/core/interactiveshell.py:2728: DtypeWarning: Columns (20,21) have mixed types. Specify dtype option on import or set low_memory=False.\n",
      "  interactivity=interactivity, compiler=compiler, result=result)\n",
      "/Users/pqros/anaconda3/lib/python3.6/site-packages/IPython/core/interactiveshell.py:2728: DtypeWarning: Columns (20) have mixed types. Specify dtype option on import or set low_memory=False.\n",
      "  interactivity=interactivity, compiler=compiler, result=result)\n",
      "/Users/pqros/anaconda3/lib/python3.6/site-packages/IPython/core/interactiveshell.py:2728: DtypeWarning: Columns (0,1,3,6,20,21,84) have mixed types. Specify dtype option on import or set low_memory=False.\n",
      "  interactivity=interactivity, compiler=compiler, result=result)\n"
     ]
    }
   ],
   "source": [
    "df_list = []\n",
    "for csv in csv_list:\n",
    "    df = pd.read_csv(csv, encoding='ISO-8859-1')\n",
    "    df_list.append(df)"
   ]
  },
  {
   "cell_type": "code",
   "execution_count": 6,
   "metadata": {},
   "outputs": [
    {
     "data": {
      "text/plain": [
       "(3119345, 85)"
      ]
     },
     "execution_count": 6,
     "metadata": {},
     "output_type": "execute_result"
    }
   ],
   "source": [
    "len(df_list)\n",
    "#On fait le test avec un csv et simule tout à la fin\n",
    "\n",
    "#data = df_list[0]\n",
    "\n",
    "data = pd.concat(df_list)\n",
    "\n",
    "data.shape"
   ]
  },
  {
   "cell_type": "code",
   "execution_count": 7,
   "metadata": {
    "scrolled": true
   },
   "outputs": [
    {
     "data": {
      "text/html": [
       "<div>\n",
       "<style scoped>\n",
       "    .dataframe tbody tr th:only-of-type {\n",
       "        vertical-align: middle;\n",
       "    }\n",
       "\n",
       "    .dataframe tbody tr th {\n",
       "        vertical-align: top;\n",
       "    }\n",
       "\n",
       "    .dataframe thead th {\n",
       "        text-align: right;\n",
       "    }\n",
       "</style>\n",
       "<table border=\"1\" class=\"dataframe\">\n",
       "  <thead>\n",
       "    <tr style=\"text-align: right;\">\n",
       "      <th></th>\n",
       "      <th>Flow ID</th>\n",
       "      <th>Source IP</th>\n",
       "      <th>Source Port</th>\n",
       "      <th>Destination IP</th>\n",
       "      <th>Destination Port</th>\n",
       "      <th>Protocol</th>\n",
       "      <th>Timestamp</th>\n",
       "      <th>Flow Duration</th>\n",
       "      <th>Total Fwd Packets</th>\n",
       "      <th>Total Backward Packets</th>\n",
       "      <th>...</th>\n",
       "      <th>min_seg_size_forward</th>\n",
       "      <th>Active Mean</th>\n",
       "      <th>Active Std</th>\n",
       "      <th>Active Max</th>\n",
       "      <th>Active Min</th>\n",
       "      <th>Idle Mean</th>\n",
       "      <th>Idle Std</th>\n",
       "      <th>Idle Max</th>\n",
       "      <th>Idle Min</th>\n",
       "      <th>Label</th>\n",
       "    </tr>\n",
       "  </thead>\n",
       "  <tbody>\n",
       "    <tr>\n",
       "      <th>0</th>\n",
       "      <td>192.168.10.12-192.168.10.50-60148-22-6</td>\n",
       "      <td>192.168.10.12</td>\n",
       "      <td>60148.0</td>\n",
       "      <td>192.168.10.50</td>\n",
       "      <td>22.0</td>\n",
       "      <td>6.0</td>\n",
       "      <td>6/7/2017 1:00</td>\n",
       "      <td>166.0</td>\n",
       "      <td>1.0</td>\n",
       "      <td>1.0</td>\n",
       "      <td>...</td>\n",
       "      <td>32.0</td>\n",
       "      <td>0.000</td>\n",
       "      <td>0.000</td>\n",
       "      <td>0.0</td>\n",
       "      <td>0.0</td>\n",
       "      <td>0.0</td>\n",
       "      <td>0.000</td>\n",
       "      <td>0.0</td>\n",
       "      <td>0.0</td>\n",
       "      <td>BENIGN</td>\n",
       "    </tr>\n",
       "    <tr>\n",
       "      <th>1</th>\n",
       "      <td>192.168.10.12-192.168.10.50-60148-22-6</td>\n",
       "      <td>192.168.10.50</td>\n",
       "      <td>22.0</td>\n",
       "      <td>192.168.10.12</td>\n",
       "      <td>60148.0</td>\n",
       "      <td>6.0</td>\n",
       "      <td>6/7/2017 1:00</td>\n",
       "      <td>83.0</td>\n",
       "      <td>1.0</td>\n",
       "      <td>2.0</td>\n",
       "      <td>...</td>\n",
       "      <td>32.0</td>\n",
       "      <td>0.000</td>\n",
       "      <td>0.000</td>\n",
       "      <td>0.0</td>\n",
       "      <td>0.0</td>\n",
       "      <td>0.0</td>\n",
       "      <td>0.000</td>\n",
       "      <td>0.0</td>\n",
       "      <td>0.0</td>\n",
       "      <td>BENIGN</td>\n",
       "    </tr>\n",
       "    <tr>\n",
       "      <th>2</th>\n",
       "      <td>192.168.10.12-91.189.89.199-123-123-17</td>\n",
       "      <td>192.168.10.12</td>\n",
       "      <td>123.0</td>\n",
       "      <td>91.189.89.199</td>\n",
       "      <td>123.0</td>\n",
       "      <td>17.0</td>\n",
       "      <td>6/7/2017 1:00</td>\n",
       "      <td>99947.0</td>\n",
       "      <td>1.0</td>\n",
       "      <td>1.0</td>\n",
       "      <td>...</td>\n",
       "      <td>40.0</td>\n",
       "      <td>0.000</td>\n",
       "      <td>0.000</td>\n",
       "      <td>0.0</td>\n",
       "      <td>0.0</td>\n",
       "      <td>0.0</td>\n",
       "      <td>0.000</td>\n",
       "      <td>0.0</td>\n",
       "      <td>0.0</td>\n",
       "      <td>BENIGN</td>\n",
       "    </tr>\n",
       "    <tr>\n",
       "      <th>3</th>\n",
       "      <td>192.168.10.12-72.38.129.202-123-123-17</td>\n",
       "      <td>192.168.10.12</td>\n",
       "      <td>123.0</td>\n",
       "      <td>72.38.129.202</td>\n",
       "      <td>123.0</td>\n",
       "      <td>17.0</td>\n",
       "      <td>6/7/2017 1:00</td>\n",
       "      <td>37017.0</td>\n",
       "      <td>1.0</td>\n",
       "      <td>1.0</td>\n",
       "      <td>...</td>\n",
       "      <td>32.0</td>\n",
       "      <td>0.000</td>\n",
       "      <td>0.000</td>\n",
       "      <td>0.0</td>\n",
       "      <td>0.0</td>\n",
       "      <td>0.0</td>\n",
       "      <td>0.000</td>\n",
       "      <td>0.0</td>\n",
       "      <td>0.0</td>\n",
       "      <td>BENIGN</td>\n",
       "    </tr>\n",
       "    <tr>\n",
       "      <th>4</th>\n",
       "      <td>8.0.6.4-8.6.0.1-0-0-0</td>\n",
       "      <td>8.6.0.1</td>\n",
       "      <td>0.0</td>\n",
       "      <td>8.0.6.4</td>\n",
       "      <td>0.0</td>\n",
       "      <td>0.0</td>\n",
       "      <td>6/7/2017 1:00</td>\n",
       "      <td>111161336.0</td>\n",
       "      <td>147.0</td>\n",
       "      <td>0.0</td>\n",
       "      <td>...</td>\n",
       "      <td>0.0</td>\n",
       "      <td>1753752.625</td>\n",
       "      <td>2123197.578</td>\n",
       "      <td>4822992.0</td>\n",
       "      <td>95.0</td>\n",
       "      <td>9463032.7</td>\n",
       "      <td>2657727.996</td>\n",
       "      <td>13600000.0</td>\n",
       "      <td>5700287.0</td>\n",
       "      <td>BENIGN</td>\n",
       "    </tr>\n",
       "  </tbody>\n",
       "</table>\n",
       "<p>5 rows × 85 columns</p>\n",
       "</div>"
      ],
      "text/plain": [
       "                                  Flow ID      Source IP  Source Port  \\\n",
       "0  192.168.10.12-192.168.10.50-60148-22-6  192.168.10.12      60148.0   \n",
       "1  192.168.10.12-192.168.10.50-60148-22-6  192.168.10.50         22.0   \n",
       "2  192.168.10.12-91.189.89.199-123-123-17  192.168.10.12        123.0   \n",
       "3  192.168.10.12-72.38.129.202-123-123-17  192.168.10.12        123.0   \n",
       "4                   8.0.6.4-8.6.0.1-0-0-0        8.6.0.1          0.0   \n",
       "\n",
       "  Destination IP  Destination Port  Protocol      Timestamp  Flow Duration  \\\n",
       "0  192.168.10.50              22.0       6.0  6/7/2017 1:00          166.0   \n",
       "1  192.168.10.12           60148.0       6.0  6/7/2017 1:00           83.0   \n",
       "2  91.189.89.199             123.0      17.0  6/7/2017 1:00        99947.0   \n",
       "3  72.38.129.202             123.0      17.0  6/7/2017 1:00        37017.0   \n",
       "4        8.0.6.4               0.0       0.0  6/7/2017 1:00    111161336.0   \n",
       "\n",
       "   Total Fwd Packets  Total Backward Packets   ...    min_seg_size_forward  \\\n",
       "0                1.0                     1.0   ...                    32.0   \n",
       "1                1.0                     2.0   ...                    32.0   \n",
       "2                1.0                     1.0   ...                    40.0   \n",
       "3                1.0                     1.0   ...                    32.0   \n",
       "4              147.0                     0.0   ...                     0.0   \n",
       "\n",
       "   Active Mean   Active Std  Active Max  Active Min  Idle Mean     Idle Std  \\\n",
       "0        0.000        0.000         0.0         0.0        0.0        0.000   \n",
       "1        0.000        0.000         0.0         0.0        0.0        0.000   \n",
       "2        0.000        0.000         0.0         0.0        0.0        0.000   \n",
       "3        0.000        0.000         0.0         0.0        0.0        0.000   \n",
       "4  1753752.625  2123197.578   4822992.0        95.0  9463032.7  2657727.996   \n",
       "\n",
       "     Idle Max   Idle Min   Label  \n",
       "0         0.0        0.0  BENIGN  \n",
       "1         0.0        0.0  BENIGN  \n",
       "2         0.0        0.0  BENIGN  \n",
       "3         0.0        0.0  BENIGN  \n",
       "4  13600000.0  5700287.0  BENIGN  \n",
       "\n",
       "[5 rows x 85 columns]"
      ]
     },
     "execution_count": 7,
     "metadata": {},
     "output_type": "execute_result"
    }
   ],
   "source": [
    "#Pour tester, on n'importe qu'une table au début\n",
    "colnamelist = []\n",
    "for colname in data.columns:\n",
    "    if colname[0] == ' ':\n",
    "        colnamelist.append(colname[1:])\n",
    "    else:\n",
    "        colnamelist.append(colname)\n",
    "data.columns = colnamelist\n",
    "data.head()"
   ]
  },
  {
   "cell_type": "code",
   "execution_count": 8,
   "metadata": {
    "scrolled": true
   },
   "outputs": [
    {
     "data": {
      "text/html": [
       "<div>\n",
       "<style scoped>\n",
       "    .dataframe tbody tr th:only-of-type {\n",
       "        vertical-align: middle;\n",
       "    }\n",
       "\n",
       "    .dataframe tbody tr th {\n",
       "        vertical-align: top;\n",
       "    }\n",
       "\n",
       "    .dataframe thead th {\n",
       "        text-align: right;\n",
       "    }\n",
       "</style>\n",
       "<table border=\"1\" class=\"dataframe\">\n",
       "  <thead>\n",
       "    <tr style=\"text-align: right;\">\n",
       "      <th></th>\n",
       "      <th>Source Port</th>\n",
       "      <th>Destination Port</th>\n",
       "      <th>Protocol</th>\n",
       "      <th>Flow Duration</th>\n",
       "      <th>Total Fwd Packets</th>\n",
       "      <th>Total Backward Packets</th>\n",
       "      <th>Total Length of Fwd Packets</th>\n",
       "      <th>Total Length of Bwd Packets</th>\n",
       "      <th>Fwd Packet Length Max</th>\n",
       "      <th>Fwd Packet Length Min</th>\n",
       "      <th>...</th>\n",
       "      <th>min_seg_size_forward</th>\n",
       "      <th>Active Mean</th>\n",
       "      <th>Active Std</th>\n",
       "      <th>Active Max</th>\n",
       "      <th>Active Min</th>\n",
       "      <th>Idle Mean</th>\n",
       "      <th>Idle Std</th>\n",
       "      <th>Idle Max</th>\n",
       "      <th>Idle Min</th>\n",
       "      <th>Label</th>\n",
       "    </tr>\n",
       "  </thead>\n",
       "  <tbody>\n",
       "    <tr>\n",
       "      <th>0</th>\n",
       "      <td>60148.0</td>\n",
       "      <td>22.0</td>\n",
       "      <td>6.0</td>\n",
       "      <td>166.0</td>\n",
       "      <td>1.0</td>\n",
       "      <td>1.0</td>\n",
       "      <td>0.0</td>\n",
       "      <td>0.0</td>\n",
       "      <td>0.0</td>\n",
       "      <td>0.0</td>\n",
       "      <td>...</td>\n",
       "      <td>32.0</td>\n",
       "      <td>0.000</td>\n",
       "      <td>0.000</td>\n",
       "      <td>0.0</td>\n",
       "      <td>0.0</td>\n",
       "      <td>0.0</td>\n",
       "      <td>0.000</td>\n",
       "      <td>0.0</td>\n",
       "      <td>0.0</td>\n",
       "      <td>BENIGN</td>\n",
       "    </tr>\n",
       "    <tr>\n",
       "      <th>1</th>\n",
       "      <td>22.0</td>\n",
       "      <td>60148.0</td>\n",
       "      <td>6.0</td>\n",
       "      <td>83.0</td>\n",
       "      <td>1.0</td>\n",
       "      <td>2.0</td>\n",
       "      <td>0.0</td>\n",
       "      <td>0.0</td>\n",
       "      <td>0.0</td>\n",
       "      <td>0.0</td>\n",
       "      <td>...</td>\n",
       "      <td>32.0</td>\n",
       "      <td>0.000</td>\n",
       "      <td>0.000</td>\n",
       "      <td>0.0</td>\n",
       "      <td>0.0</td>\n",
       "      <td>0.0</td>\n",
       "      <td>0.000</td>\n",
       "      <td>0.0</td>\n",
       "      <td>0.0</td>\n",
       "      <td>BENIGN</td>\n",
       "    </tr>\n",
       "    <tr>\n",
       "      <th>2</th>\n",
       "      <td>123.0</td>\n",
       "      <td>123.0</td>\n",
       "      <td>17.0</td>\n",
       "      <td>99947.0</td>\n",
       "      <td>1.0</td>\n",
       "      <td>1.0</td>\n",
       "      <td>48.0</td>\n",
       "      <td>48.0</td>\n",
       "      <td>48.0</td>\n",
       "      <td>48.0</td>\n",
       "      <td>...</td>\n",
       "      <td>40.0</td>\n",
       "      <td>0.000</td>\n",
       "      <td>0.000</td>\n",
       "      <td>0.0</td>\n",
       "      <td>0.0</td>\n",
       "      <td>0.0</td>\n",
       "      <td>0.000</td>\n",
       "      <td>0.0</td>\n",
       "      <td>0.0</td>\n",
       "      <td>BENIGN</td>\n",
       "    </tr>\n",
       "    <tr>\n",
       "      <th>3</th>\n",
       "      <td>123.0</td>\n",
       "      <td>123.0</td>\n",
       "      <td>17.0</td>\n",
       "      <td>37017.0</td>\n",
       "      <td>1.0</td>\n",
       "      <td>1.0</td>\n",
       "      <td>48.0</td>\n",
       "      <td>48.0</td>\n",
       "      <td>48.0</td>\n",
       "      <td>48.0</td>\n",
       "      <td>...</td>\n",
       "      <td>32.0</td>\n",
       "      <td>0.000</td>\n",
       "      <td>0.000</td>\n",
       "      <td>0.0</td>\n",
       "      <td>0.0</td>\n",
       "      <td>0.0</td>\n",
       "      <td>0.000</td>\n",
       "      <td>0.0</td>\n",
       "      <td>0.0</td>\n",
       "      <td>BENIGN</td>\n",
       "    </tr>\n",
       "    <tr>\n",
       "      <th>4</th>\n",
       "      <td>0.0</td>\n",
       "      <td>0.0</td>\n",
       "      <td>0.0</td>\n",
       "      <td>111161336.0</td>\n",
       "      <td>147.0</td>\n",
       "      <td>0.0</td>\n",
       "      <td>0.0</td>\n",
       "      <td>0.0</td>\n",
       "      <td>0.0</td>\n",
       "      <td>0.0</td>\n",
       "      <td>...</td>\n",
       "      <td>0.0</td>\n",
       "      <td>1753752.625</td>\n",
       "      <td>2123197.578</td>\n",
       "      <td>4822992.0</td>\n",
       "      <td>95.0</td>\n",
       "      <td>9463032.7</td>\n",
       "      <td>2657727.996</td>\n",
       "      <td>13600000.0</td>\n",
       "      <td>5700287.0</td>\n",
       "      <td>BENIGN</td>\n",
       "    </tr>\n",
       "  </tbody>\n",
       "</table>\n",
       "<p>5 rows × 79 columns</p>\n",
       "</div>"
      ],
      "text/plain": [
       "   Source Port  Destination Port  Protocol  Flow Duration  Total Fwd Packets  \\\n",
       "0      60148.0              22.0       6.0          166.0                1.0   \n",
       "1         22.0           60148.0       6.0           83.0                1.0   \n",
       "2        123.0             123.0      17.0        99947.0                1.0   \n",
       "3        123.0             123.0      17.0        37017.0                1.0   \n",
       "4          0.0               0.0       0.0    111161336.0              147.0   \n",
       "\n",
       "   Total Backward Packets  Total Length of Fwd Packets  \\\n",
       "0                     1.0                          0.0   \n",
       "1                     2.0                          0.0   \n",
       "2                     1.0                         48.0   \n",
       "3                     1.0                         48.0   \n",
       "4                     0.0                          0.0   \n",
       "\n",
       "   Total Length of Bwd Packets  Fwd Packet Length Max  Fwd Packet Length Min  \\\n",
       "0                          0.0                    0.0                    0.0   \n",
       "1                          0.0                    0.0                    0.0   \n",
       "2                         48.0                   48.0                   48.0   \n",
       "3                         48.0                   48.0                   48.0   \n",
       "4                          0.0                    0.0                    0.0   \n",
       "\n",
       "    ...    min_seg_size_forward  Active Mean   Active Std  Active Max  \\\n",
       "0   ...                    32.0        0.000        0.000         0.0   \n",
       "1   ...                    32.0        0.000        0.000         0.0   \n",
       "2   ...                    40.0        0.000        0.000         0.0   \n",
       "3   ...                    32.0        0.000        0.000         0.0   \n",
       "4   ...                     0.0  1753752.625  2123197.578   4822992.0   \n",
       "\n",
       "   Active Min  Idle Mean     Idle Std    Idle Max   Idle Min   Label  \n",
       "0         0.0        0.0        0.000         0.0        0.0  BENIGN  \n",
       "1         0.0        0.0        0.000         0.0        0.0  BENIGN  \n",
       "2         0.0        0.0        0.000         0.0        0.0  BENIGN  \n",
       "3         0.0        0.0        0.000         0.0        0.0  BENIGN  \n",
       "4        95.0  9463032.7  2657727.996  13600000.0  5700287.0  BENIGN  \n",
       "\n",
       "[5 rows x 79 columns]"
      ]
     },
     "execution_count": 8,
     "metadata": {},
     "output_type": "execute_result"
    }
   ],
   "source": [
    "#Delete non numeric columns\n",
    "labelColumn = data['Label']\n",
    "data = data._get_numeric_data()\n",
    "data['Label'] = labelColumn\n",
    "data.head()"
   ]
  },
  {
   "cell_type": "code",
   "execution_count": 11,
   "metadata": {
    "scrolled": true
   },
   "outputs": [
    {
     "data": {
      "text/plain": [
       "2830743"
      ]
     },
     "execution_count": 11,
     "metadata": {},
     "output_type": "execute_result"
    }
   ],
   "source": [
    "# Supprimer toutes les lignes contenant au moins une valeur Inf ou NaN. \n",
    "data.replace(np.inf, np.nan, inplace=True)\n",
    "data.replace(-np.inf, np.nan, inplace=True)\n",
    "data = data.dropna(axis = 0, how = 'any')\n",
    "data.shape[0]"
   ]
  },
  {
   "cell_type": "code",
   "execution_count": null,
   "metadata": {},
   "outputs": [],
   "source": [
    "#Training data (X)\n",
    "X = data.drop(['Label'], axis=1).as_matrix().astype(np.float)\n",
    "np.isnan(X).any(), np.isinf(X).any()"
   ]
  },
  {
   "cell_type": "code",
   "execution_count": null,
   "metadata": {},
   "outputs": [],
   "source": [
    "#attack types (y)\n",
    "attackTypes = data['Label'].unique()\n",
    "attackTypes"
   ]
  },
  {
   "cell_type": "code",
   "execution_count": 96,
   "metadata": {},
   "outputs": [
    {
     "data": {
      "text/plain": [
       "15"
      ]
     },
     "execution_count": 96,
     "metadata": {},
     "output_type": "execute_result"
    }
   ],
   "source": [
    "len(attackTypes) #We have up to 15 kinds of attacks!!"
   ]
  },
  {
   "cell_type": "code",
   "execution_count": 97,
   "metadata": {},
   "outputs": [],
   "source": [
    "#Decision Tree\n",
    "from sklearn.tree import DecisionTreeClassifier\n",
    "decisionTreeClassifier = DecisionTreeClassifier().fit(X_train, y_train)\n",
    "y_trainPredict_dt = decisionTreeClassifier.predict(X_train)\n",
    "y_testPredict_dt = decisionTreeClassifier.predict(X_test)"
   ]
  },
  {
   "cell_type": "code",
   "execution_count": 98,
   "metadata": {},
   "outputs": [
    {
     "data": {
      "text/plain": [
       "(array([[117734,      0,      0,      0],\n",
       "        [     0,   1029,      0,      0],\n",
       "        [     0,      0,     17,      0],\n",
       "        [     0,      0,      0,    476]]),\n",
       " array([[50440,     8,     2,     2],\n",
       "        [    4,   420,     0,    54],\n",
       "        [    3,     1,     0,     0],\n",
       "        [    0,    52,     0,   124]]))"
      ]
     },
     "execution_count": 98,
     "metadata": {},
     "output_type": "execute_result"
    }
   ],
   "source": [
    "confusion_matrix(y_train, y_trainPredict_dt), confusion_matrix(y_test, y_testPredict_dt)"
   ]
  },
  {
   "cell_type": "code",
   "execution_count": 99,
   "metadata": {},
   "outputs": [],
   "source": [
    "#Random Forest\n",
    "from sklearn.ensemble import RandomForestClassifier\n",
    "randomForestClassifier = RandomForestClassifier().fit(X_train, y_train)\n",
    "y_trainPredict_rf = randomForestClassifier.predict(X_train)\n",
    "y_testPredict_rf = randomForestClassifier.predict(X_test)"
   ]
  },
  {
   "cell_type": "code",
   "execution_count": 100,
   "metadata": {},
   "outputs": [
    {
     "data": {
      "text/plain": [
       "(array([[117734,      0,      0,      0],\n",
       "        [     1,   1025,      0,      3],\n",
       "        [     1,      0,     16,      0],\n",
       "        [     4,      7,      0,    465]]),\n",
       " array([[50451,     1,     0,     0],\n",
       "        [    5,   421,     0,    52],\n",
       "        [    4,     0,     0,     0],\n",
       "        [    1,    71,     0,   104]]))"
      ]
     },
     "execution_count": 100,
     "metadata": {},
     "output_type": "execute_result"
    }
   ],
   "source": [
    "confusion_matrix(y_train, y_trainPredict_rf), confusion_matrix(y_test, y_testPredict_rf)"
   ]
  },
  {
   "cell_type": "code",
   "execution_count": 101,
   "metadata": {},
   "outputs": [],
   "source": [
    "#Support Vector Machine (very slow!!!)\n",
    "from sklearn.svm import LinearSVC\n",
    "svmClassier = LinearSVC().fit(X_train, y_train)\n",
    "y_trainPredict_svm = svmClassier.predict(X_train)\n",
    "y_testPredict_svm = svmClassier.predict(X_test)"
   ]
  },
  {
   "cell_type": "code",
   "execution_count": 102,
   "metadata": {
    "scrolled": false
   },
   "outputs": [
    {
     "data": {
      "text/plain": [
       "(array([[117490,    182,     35,     27],\n",
       "        [   155,    874,      0,      0],\n",
       "        [    15,      2,      0,      0],\n",
       "        [    30,    445,      1,      0]]),\n",
       " array([[50337,    82,    18,    15],\n",
       "        [   58,   420,     0,     0],\n",
       "        [    4,     0,     0,     0],\n",
       "        [    5,   171,     0,     0]]))"
      ]
     },
     "execution_count": 102,
     "metadata": {},
     "output_type": "execute_result"
    }
   ],
   "source": [
    "confusion_matrix(y_train, y_trainPredict_svm), confusion_matrix(y_test, y_testPredict_svm)"
   ]
  },
  {
   "cell_type": "markdown",
   "metadata": {},
   "source": [
    "### Accuracy, Precision, Recall\n",
    "$$Accuracy = \\dfrac{True}{True + False}$$\n",
    "$$Precision = \\dfrac{True\\ positive}{True\\ positive + False\\ positive}$$\n",
    "$$Recall = \\dfrac{True\\ positive}{True\\ positive + False\\ negative}$$"
   ]
  },
  {
   "cell_type": "code",
   "execution_count": 114,
   "metadata": {},
   "outputs": [
    {
     "data": {
      "text/plain": [
       "array(['BENIGN', 'MALIGN'], dtype=object)"
      ]
     },
     "execution_count": 114,
     "metadata": {},
     "output_type": "execute_result"
    }
   ],
   "source": [
    "#2-classifier\n",
    "y[y != 'BENIGN'] = 'MALIGN'\n",
    "y.unique()"
   ]
  },
  {
   "cell_type": "code",
   "execution_count": 115,
   "metadata": {},
   "outputs": [
    {
     "ename": "KeyboardInterrupt",
     "evalue": "",
     "output_type": "error",
     "traceback": [
      "\u001b[0;31m---------------------------------------------------------------------------\u001b[0m",
      "\u001b[0;31mKeyboardInterrupt\u001b[0m                         Traceback (most recent call last)",
      "\u001b[0;32m<ipython-input-115-1c6d1cf5c9de>\u001b[0m in \u001b[0;36m<module>\u001b[0;34m()\u001b[0m\n\u001b[1;32m      5\u001b[0m \u001b[0;32mfor\u001b[0m \u001b[0mi\u001b[0m \u001b[0;32min\u001b[0m \u001b[0mrange\u001b[0m\u001b[0;34m(\u001b[0m\u001b[0;36m9\u001b[0m\u001b[0;34m)\u001b[0m\u001b[0;34m:\u001b[0m\u001b[0;34m\u001b[0m\u001b[0m\n\u001b[1;32m      6\u001b[0m     \u001b[0mX_train\u001b[0m\u001b[0;34m,\u001b[0m \u001b[0mX_test\u001b[0m\u001b[0;34m,\u001b[0m \u001b[0my_train\u001b[0m\u001b[0;34m,\u001b[0m \u001b[0my_test\u001b[0m \u001b[0;34m=\u001b[0m \u001b[0mtrain_test_split\u001b[0m\u001b[0;34m(\u001b[0m\u001b[0mX\u001b[0m\u001b[0;34m,\u001b[0m \u001b[0my\u001b[0m\u001b[0;34m,\u001b[0m \u001b[0mtest_size\u001b[0m\u001b[0;34m=\u001b[0m\u001b[0;36m0.1\u001b[0m \u001b[0;34m*\u001b[0m \u001b[0mi\u001b[0m \u001b[0;34m+\u001b[0m \u001b[0;36m0.1\u001b[0m\u001b[0;34m)\u001b[0m\u001b[0;34m\u001b[0m\u001b[0m\n\u001b[0;32m----> 7\u001b[0;31m     \u001b[0mdecisionTreeClassifier\u001b[0m \u001b[0;34m=\u001b[0m \u001b[0mDecisionTreeClassifier\u001b[0m\u001b[0;34m(\u001b[0m\u001b[0;34m)\u001b[0m\u001b[0;34m.\u001b[0m\u001b[0mfit\u001b[0m\u001b[0;34m(\u001b[0m\u001b[0mX_train\u001b[0m\u001b[0;34m,\u001b[0m \u001b[0my_train\u001b[0m\u001b[0;34m)\u001b[0m\u001b[0;34m\u001b[0m\u001b[0m\n\u001b[0m\u001b[1;32m      8\u001b[0m     \u001b[0my_trainPredict\u001b[0m \u001b[0;34m=\u001b[0m \u001b[0mdecisionTreeClassifier\u001b[0m\u001b[0;34m.\u001b[0m\u001b[0mpredict\u001b[0m\u001b[0;34m(\u001b[0m\u001b[0mX_train\u001b[0m\u001b[0;34m)\u001b[0m\u001b[0;34m\u001b[0m\u001b[0m\n\u001b[1;32m      9\u001b[0m     \u001b[0my_testPredict\u001b[0m \u001b[0;34m=\u001b[0m \u001b[0mdecisionTreeClassifier\u001b[0m\u001b[0;34m.\u001b[0m\u001b[0mpredict\u001b[0m\u001b[0;34m(\u001b[0m\u001b[0mX_test\u001b[0m\u001b[0;34m)\u001b[0m\u001b[0;34m\u001b[0m\u001b[0m\n",
      "\u001b[0;32m~/anaconda3/lib/python3.6/site-packages/sklearn/tree/tree.py\u001b[0m in \u001b[0;36mfit\u001b[0;34m(self, X, y, sample_weight, check_input, X_idx_sorted)\u001b[0m\n\u001b[1;32m    788\u001b[0m             \u001b[0msample_weight\u001b[0m\u001b[0;34m=\u001b[0m\u001b[0msample_weight\u001b[0m\u001b[0;34m,\u001b[0m\u001b[0;34m\u001b[0m\u001b[0m\n\u001b[1;32m    789\u001b[0m             \u001b[0mcheck_input\u001b[0m\u001b[0;34m=\u001b[0m\u001b[0mcheck_input\u001b[0m\u001b[0;34m,\u001b[0m\u001b[0;34m\u001b[0m\u001b[0m\n\u001b[0;32m--> 790\u001b[0;31m             X_idx_sorted=X_idx_sorted)\n\u001b[0m\u001b[1;32m    791\u001b[0m         \u001b[0;32mreturn\u001b[0m \u001b[0mself\u001b[0m\u001b[0;34m\u001b[0m\u001b[0m\n\u001b[1;32m    792\u001b[0m \u001b[0;34m\u001b[0m\u001b[0m\n",
      "\u001b[0;32m~/anaconda3/lib/python3.6/site-packages/sklearn/tree/tree.py\u001b[0m in \u001b[0;36mfit\u001b[0;34m(self, X, y, sample_weight, check_input, X_idx_sorted)\u001b[0m\n\u001b[1;32m    360\u001b[0m                                            min_impurity_split)\n\u001b[1;32m    361\u001b[0m \u001b[0;34m\u001b[0m\u001b[0m\n\u001b[0;32m--> 362\u001b[0;31m         \u001b[0mbuilder\u001b[0m\u001b[0;34m.\u001b[0m\u001b[0mbuild\u001b[0m\u001b[0;34m(\u001b[0m\u001b[0mself\u001b[0m\u001b[0;34m.\u001b[0m\u001b[0mtree_\u001b[0m\u001b[0;34m,\u001b[0m \u001b[0mX\u001b[0m\u001b[0;34m,\u001b[0m \u001b[0my\u001b[0m\u001b[0;34m,\u001b[0m \u001b[0msample_weight\u001b[0m\u001b[0;34m,\u001b[0m \u001b[0mX_idx_sorted\u001b[0m\u001b[0;34m)\u001b[0m\u001b[0;34m\u001b[0m\u001b[0m\n\u001b[0m\u001b[1;32m    363\u001b[0m \u001b[0;34m\u001b[0m\u001b[0m\n\u001b[1;32m    364\u001b[0m         \u001b[0;32mif\u001b[0m \u001b[0mself\u001b[0m\u001b[0;34m.\u001b[0m\u001b[0mn_outputs_\u001b[0m \u001b[0;34m==\u001b[0m \u001b[0;36m1\u001b[0m\u001b[0;34m:\u001b[0m\u001b[0;34m\u001b[0m\u001b[0m\n",
      "\u001b[0;31mKeyboardInterrupt\u001b[0m: "
     ]
    }
   ],
   "source": [
    "# decision tree\n",
    "accuracy_test = []\n",
    "precision_test = []\n",
    "recall_test = []\n",
    "for i in range(9):\n",
    "    X_train, X_test, y_train, y_test = train_test_split(X, y, test_size=0.1 * i + 0.1)\n",
    "    decisionTreeClassifier = DecisionTreeClassifier().fit(X_train, y_train)\n",
    "    y_trainPredict = decisionTreeClassifier.predict(X_train)\n",
    "    y_testPredict = decisionTreeClassifier.predict(X_test)\n",
    "    accuracy_test.append(accuracy_score(y_test, y_testPredict))\n",
    "    precision_test.append(precision_test(y_test, y_testPredict))\n",
    "    recall_test.append(recall_test(y_test, y_testPredict))\n",
    "    \n",
    "accuracy_test\n",
    "    \n",
    "    \n"
   ]
  },
  {
   "cell_type": "markdown",
   "metadata": {},
   "source": [
    "# TD4"
   ]
  },
  {
   "cell_type": "markdown",
   "metadata": {},
   "source": [
    "1 Sauvegardez les données chargées et nettoyées dans un pickle (fonctionnalité de base en Python)."
   ]
  },
  {
   "cell_type": "code",
   "execution_count": 1,
   "metadata": {},
   "outputs": [],
   "source": [
    "import pickle as pk\n",
    "import os\n",
    "import numpy as npa\n",
    "import pandas as pd\n",
    "import matplotlib.pyplot as plt\n",
    "from sklearn.model_selection import train_test_split\n",
    "from sklearn.linear_model import LogisticRegression"
   ]
  },
  {
   "cell_type": "code",
   "execution_count": 12,
   "metadata": {},
   "outputs": [],
   "source": [
    "with open(r'./alldata.txt', 'wb') as f: #must be in binary mode!\n",
    "    pk.dump(data, f)"
   ]
  },
  {
   "cell_type": "code",
   "execution_count": 13,
   "metadata": {},
   "outputs": [],
   "source": [
    "#---------------------\n",
    "data = pd.read_pickle('./alldata.txt')"
   ]
  },
  {
   "cell_type": "code",
   "execution_count": 14,
   "metadata": {},
   "outputs": [
    {
     "data": {
      "text/plain": [
       "array(['BENIGN', 'Infiltration', 'Bot', 'PortScan', 'DDoS', 'FTP-Patator',\n",
       "       'SSH-Patator', 'DoS slowloris', 'DoS Slowhttptest', 'DoS Hulk',\n",
       "       'DoS GoldenEye', 'Heartbleed', 'Web Attack \\x96 Brute Force',\n",
       "       'Web Attack \\x96 XSS', 'Web Attack \\x96 Sql Injection'],\n",
       "      dtype=object)"
      ]
     },
     "execution_count": 14,
     "metadata": {},
     "output_type": "execute_result"
    }
   ],
   "source": [
    "X = data.drop(['Label'], axis=1)\n",
    "y = data['Label']\n",
    "y.unique()"
   ]
  },
  {
   "cell_type": "code",
   "execution_count": 18,
   "metadata": {},
   "outputs": [
    {
     "name": "stderr",
     "output_type": "stream",
     "text": [
      "/Users/pqros/anaconda3/lib/python3.6/site-packages/ipykernel_launcher.py:1: SettingWithCopyWarning: \n",
      "A value is trying to be set on a copy of a slice from a DataFrame\n",
      "\n",
      "See the caveats in the documentation: http://pandas.pydata.org/pandas-docs/stable/indexing.html#indexing-view-versus-copy\n",
      "  \"\"\"Entry point for launching an IPython kernel.\n"
     ]
    }
   ],
   "source": [
    "y[y != 'BENIGN'] = 'MALIGN'"
   ]
  },
  {
   "cell_type": "code",
   "execution_count": null,
   "metadata": {},
   "outputs": [],
   "source": [
    "#Save and load sklearn models in pickle"
   ]
  },
  {
   "cell_type": "code",
   "execution_count": 19,
   "metadata": {},
   "outputs": [],
   "source": [
    "from sklearn.ensemble import RandomForestClassifier\n",
    "X_train, X_test, y_train, y_test = train_test_split(X, y, test_size=0.3)"
   ]
  },
  {
   "cell_type": "code",
   "execution_count": 20,
   "metadata": {},
   "outputs": [],
   "source": [
    "rfModel0 = RandomForestClassifier()\n",
    "model0 = rfModel0.fit(X_train, y_train)"
   ]
  },
  {
   "cell_type": "code",
   "execution_count": 21,
   "metadata": {},
   "outputs": [],
   "source": [
    "filename = 'rfModel0.sav'\n",
    "pk.dump(model0, open(filename, 'wb'))"
   ]
  },
  {
   "cell_type": "code",
   "execution_count": 22,
   "metadata": {
    "scrolled": true
   },
   "outputs": [
    {
     "data": {
      "text/plain": [
       "0.9995254485570928"
      ]
     },
     "execution_count": 22,
     "metadata": {},
     "output_type": "execute_result"
    }
   ],
   "source": [
    "model0_test = pk.load(open(filename, 'rb'))\n",
    "model0_test.score(X_test, y_test)"
   ]
  },
  {
   "cell_type": "markdown",
   "metadata": {},
   "source": [
    "#RandomForestClassifier(n_estimators=’warn’, criterion=’gini’, \n",
    "#max_depth=None, min_samples_split=2, min_samples_leaf=1, \n",
    "#min_weight_fraction_leaf=0.0, max_features=’auto’, max_leaf_nodes=None, \n",
    "#min_impurity_decrease=0.0, min_impurity_split=None, bootstrap=True, \n",
    "#oob_score=False, n_jobs=None, random_state=None, verbose=0, \n",
    "#ghtgwarm_start=False, class_weight=None)[source]¶"
   ]
  },
  {
   "cell_type": "markdown",
   "metadata": {},
   "source": [
    "class_weight : Weights associated with classes in the form {class_label: weight}. If not given, all classes are supposed to have weight one. For multi-output problems, a list of dicts can be provided in the same order as the columns of y.\n",
    "\n",
    "This is not the case in our example. As we see, the most of the data are of label BELIGN, which is extremely unbalanced."
   ]
  },
  {
   "cell_type": "code",
   "execution_count": 23,
   "metadata": {},
   "outputs": [],
   "source": [
    "rfModel_balanced = RandomForestClassifier(class_weight='balanced')\n",
    "rfModel_balanced_subsample = RandomForestClassifier(class_weight='balanced_subsample')"
   ]
  },
  {
   "cell_type": "code",
   "execution_count": 27,
   "metadata": {},
   "outputs": [],
   "source": [
    "model_balanced = rfModel_balanced.fit(X_train, y_train)\n",
    "model_balanced_subsample = rfModel_balanced_subsample.fit(X_train, y_train)"
   ]
  },
  {
   "cell_type": "code",
   "execution_count": 28,
   "metadata": {},
   "outputs": [
    {
     "data": {
      "text/plain": [
       "array([[682065,    146],\n",
       "       [   257, 166755]])"
      ]
     },
     "execution_count": 28,
     "metadata": {},
     "output_type": "execute_result"
    }
   ],
   "source": [
    "from sklearn.metrics import confusion_matrix\n",
    "confusion_matrix(y_test, model0_test.predict(X_test))"
   ]
  },
  {
   "cell_type": "code",
   "execution_count": 31,
   "metadata": {},
   "outputs": [
    {
     "data": {
      "text/plain": [
       "array([[682058,    153],\n",
       "       [   266, 166746]])"
      ]
     },
     "execution_count": 31,
     "metadata": {},
     "output_type": "execute_result"
    }
   ],
   "source": [
    "confusion_matrix(y_test, model_balanced.predict(X_test))"
   ]
  },
  {
   "cell_type": "code",
   "execution_count": 32,
   "metadata": {},
   "outputs": [
    {
     "data": {
      "text/plain": [
       "array([[682053,    158],\n",
       "       [   308, 166704]])"
      ]
     },
     "execution_count": 32,
     "metadata": {},
     "output_type": "execute_result"
    }
   ],
   "source": [
    "confusion_matrix(y_test, model_balanced_subsample.predict(X_test))"
   ]
  },
  {
   "cell_type": "markdown",
   "metadata": {},
   "source": [
    "## Partie Tensorflow"
   ]
  },
  {
   "cell_type": "code",
   "execution_count": 33,
   "metadata": {},
   "outputs": [],
   "source": [
    "from __future__ import division, print_function, absolute_import\n",
    "import tensorflow as tf\n",
    "import numpy as np\n",
    "import matplotlib.pyplot as plt"
   ]
  },
  {
   "cell_type": "code",
   "execution_count": 34,
   "metadata": {},
   "outputs": [
    {
     "name": "stdout",
     "output_type": "stream",
     "text": [
      "WARNING:tensorflow:From <ipython-input-34-2f44eee0991e>:3: read_data_sets (from tensorflow.contrib.learn.python.learn.datasets.mnist) is deprecated and will be removed in a future version.\n",
      "Instructions for updating:\n",
      "Please use alternatives such as official/mnist/dataset.py from tensorflow/models.\n",
      "WARNING:tensorflow:From /Users/pqros/anaconda3/lib/python3.6/site-packages/tensorflow/contrib/learn/python/learn/datasets/mnist.py:260: maybe_download (from tensorflow.contrib.learn.python.learn.datasets.base) is deprecated and will be removed in a future version.\n",
      "Instructions for updating:\n",
      "Please write your own downloading logic.\n",
      "WARNING:tensorflow:From /Users/pqros/anaconda3/lib/python3.6/site-packages/tensorflow/contrib/learn/python/learn/datasets/base.py:252: _internal_retry.<locals>.wrap.<locals>.wrapped_fn (from tensorflow.contrib.learn.python.learn.datasets.base) is deprecated and will be removed in a future version.\n",
      "Instructions for updating:\n",
      "Please use urllib or similar directly.\n",
      "Successfully downloaded train-images-idx3-ubyte.gz 9912422 bytes.\n",
      "WARNING:tensorflow:From /Users/pqros/anaconda3/lib/python3.6/site-packages/tensorflow/contrib/learn/python/learn/datasets/mnist.py:262: extract_images (from tensorflow.contrib.learn.python.learn.datasets.mnist) is deprecated and will be removed in a future version.\n",
      "Instructions for updating:\n",
      "Please use tf.data to implement this functionality.\n",
      "Extracting /tmp/data/train-images-idx3-ubyte.gz\n",
      "Successfully downloaded train-labels-idx1-ubyte.gz 28881 bytes.\n",
      "WARNING:tensorflow:From /Users/pqros/anaconda3/lib/python3.6/site-packages/tensorflow/contrib/learn/python/learn/datasets/mnist.py:267: extract_labels (from tensorflow.contrib.learn.python.learn.datasets.mnist) is deprecated and will be removed in a future version.\n",
      "Instructions for updating:\n",
      "Please use tf.data to implement this functionality.\n",
      "Extracting /tmp/data/train-labels-idx1-ubyte.gz\n",
      "WARNING:tensorflow:From /Users/pqros/anaconda3/lib/python3.6/site-packages/tensorflow/contrib/learn/python/learn/datasets/mnist.py:110: dense_to_one_hot (from tensorflow.contrib.learn.python.learn.datasets.mnist) is deprecated and will be removed in a future version.\n",
      "Instructions for updating:\n",
      "Please use tf.one_hot on tensors.\n",
      "Successfully downloaded t10k-images-idx3-ubyte.gz 1648877 bytes.\n",
      "Extracting /tmp/data/t10k-images-idx3-ubyte.gz\n",
      "Successfully downloaded t10k-labels-idx1-ubyte.gz 4542 bytes.\n",
      "Extracting /tmp/data/t10k-labels-idx1-ubyte.gz\n",
      "WARNING:tensorflow:From /Users/pqros/anaconda3/lib/python3.6/site-packages/tensorflow/contrib/learn/python/learn/datasets/mnist.py:290: DataSet.__init__ (from tensorflow.contrib.learn.python.learn.datasets.mnist) is deprecated and will be removed in a future version.\n",
      "Instructions for updating:\n",
      "Please use alternatives such as official/mnist/dataset.py from tensorflow/models.\n"
     ]
    }
   ],
   "source": [
    "# Import MNIST data\n",
    "from tensorflow.examples.tutorials.mnist import input_data\n",
    "mnist = input_data.read_data_sets(\"/tmp/data/\", one_hot=True)"
   ]
  },
  {
   "cell_type": "code",
   "execution_count": 35,
   "metadata": {},
   "outputs": [],
   "source": [
    "# Training Parameters\n",
    "learning_rate = 0.01\n",
    "num_steps = 30000\n",
    "batch_size = 256\n",
    "display_step = 1000\n",
    "examples_to_show = 10"
   ]
  },
  {
   "cell_type": "code",
   "execution_count": 36,
   "metadata": {},
   "outputs": [],
   "source": [
    "# Network Parameters\n",
    "num_hidden_1 = 256 # 1st layer num features\n",
    "num_hidden_2 = 128 # 2nd layer num features (the latent dim)\n",
    "num_input = 784 # MNIST data input (img shape: 28*28)"
   ]
  },
  {
   "cell_type": "code",
   "execution_count": 37,
   "metadata": {},
   "outputs": [],
   "source": [
    "# tf Graph input (only pictures)\n",
    "X = tf.placeholder(\"float\", [None, num_input])\n",
    "\n",
    "weights = {\n",
    "    'encoder_h1': tf.Variable(tf.random_normal([num_input, num_hidden_1])),\n",
    "    'encoder_h2': tf.Variable(tf.random_normal([num_hidden_1, num_hidden_2])),\n",
    "    'decoder_h1': tf.Variable(tf.random_normal([num_hidden_2, num_hidden_1])),\n",
    "    'decoder_h2': tf.Variable(tf.random_normal([num_hidden_1, num_input])),\n",
    "} #initialize with normal variables\n",
    "\n",
    "biases = {\n",
    "    'encoder_b1': tf.Variable(tf.random_normal([num_hidden_1])),\n",
    "    'encoder_b2': tf.Variable(tf.random_normal([num_hidden_2])),\n",
    "    'decoder_b1': tf.Variable(tf.random_normal([num_hidden_1])),\n",
    "    'decoder_b2': tf.Variable(tf.random_normal([num_input])),\n",
    "}"
   ]
  },
  {
   "cell_type": "code",
   "execution_count": 38,
   "metadata": {},
   "outputs": [],
   "source": [
    "# Building the encoder\n",
    "def encoder(x):\n",
    "    # Encoder Hidden layer with sigmoid activation #1 Wx+b\n",
    "    layer_1 = tf.nn.sigmoid(tf.add(tf.matmul(x, weights['encoder_h1']),\n",
    "                                   biases['encoder_b1']))\n",
    "    # Encoder Hidden layer with sigmoid activation #2\n",
    "    layer_2 = tf.nn.sigmoid(tf.add(tf.matmul(layer_1, weights['encoder_h2']),\n",
    "                                   biases['encoder_b2']))\n",
    "    return layer_2"
   ]
  },
  {
   "cell_type": "code",
   "execution_count": 39,
   "metadata": {},
   "outputs": [],
   "source": [
    "# Building the decoder\n",
    "def decoder(x):\n",
    "    # Decoder Hidden layer with sigmoid activation #1\n",
    "    layer_1 = tf.nn.sigmoid(tf.add(tf.matmul(x, weights['decoder_h1']),\n",
    "                                   biases['decoder_b1']))\n",
    "    # Decoder Hidden layer with sigmoid activation #2\n",
    "    layer_2 = tf.nn.sigmoid(tf.add(tf.matmul(layer_1, weights['decoder_h2']),\n",
    "                                   biases['decoder_b2']))\n",
    "    return layer_2"
   ]
  },
  {
   "cell_type": "code",
   "execution_count": 40,
   "metadata": {},
   "outputs": [],
   "source": [
    "# Construct model\n",
    "encoder_op = encoder(X)\n",
    "decoder_op = decoder(encoder_op)"
   ]
  },
  {
   "cell_type": "code",
   "execution_count": 41,
   "metadata": {},
   "outputs": [],
   "source": [
    "# Prediction\n",
    "y_pred = decoder_op\n",
    "# Targets (Labels) are the input data.\n",
    "y_true = X"
   ]
  },
  {
   "cell_type": "code",
   "execution_count": 42,
   "metadata": {},
   "outputs": [],
   "source": [
    "# Define loss and optimizer, minimize the squared error\n",
    "loss = tf.reduce_mean(tf.pow(y_true - y_pred, 2))\n",
    "optimizer = tf.train.RMSPropOptimizer(learning_rate).minimize(loss)\n",
    "\n",
    "# Initialize the variables (i.e. assign their default value)\n",
    "init = tf.global_variables_initializer()\n"
   ]
  },
  {
   "cell_type": "code",
   "execution_count": 43,
   "metadata": {},
   "outputs": [
    {
     "name": "stdout",
     "output_type": "stream",
     "text": [
      "Step 1: Minibatch Loss: 0.456222\n",
      "Step 1000: Minibatch Loss: 0.130505\n",
      "Step 2000: Minibatch Loss: 0.112684\n",
      "Step 3000: Minibatch Loss: 0.096528\n",
      "Step 4000: Minibatch Loss: 0.093613\n",
      "Step 5000: Minibatch Loss: 0.091934\n",
      "Step 6000: Minibatch Loss: 0.088409\n",
      "Step 7000: Minibatch Loss: 0.084668\n",
      "Step 8000: Minibatch Loss: 0.083706\n",
      "Step 9000: Minibatch Loss: 0.083159\n",
      "Step 10000: Minibatch Loss: 0.080589\n",
      "Step 11000: Minibatch Loss: 0.080406\n",
      "Step 12000: Minibatch Loss: 0.078876\n",
      "Step 13000: Minibatch Loss: 0.076246\n",
      "Step 14000: Minibatch Loss: 0.073929\n",
      "Step 15000: Minibatch Loss: 0.071227\n",
      "Step 16000: Minibatch Loss: 0.072267\n",
      "Step 17000: Minibatch Loss: 0.069713\n",
      "Step 18000: Minibatch Loss: 0.068946\n",
      "Step 19000: Minibatch Loss: 0.065310\n",
      "Step 20000: Minibatch Loss: 0.062163\n",
      "Step 21000: Minibatch Loss: 0.062392\n",
      "Step 22000: Minibatch Loss: 0.057261\n",
      "Step 23000: Minibatch Loss: 0.057584\n",
      "Step 24000: Minibatch Loss: 0.056781\n",
      "Step 25000: Minibatch Loss: 0.056823\n",
      "Step 26000: Minibatch Loss: 0.056382\n",
      "Step 27000: Minibatch Loss: 0.055656\n",
      "Step 28000: Minibatch Loss: 0.053612\n",
      "Step 29000: Minibatch Loss: 0.052954\n",
      "Step 30000: Minibatch Loss: 0.053862\n",
      "Original Images\n"
     ]
    },
    {
     "data": {
      "image/png": "[encoded data removed]",
      "text/plain": [
       "<matplotlib.figure.Figure at 0x1b1895ddd8>"
      ]
     },
     "metadata": {},
     "output_type": "display_data"
    },
    {
     "name": "stdout",
     "output_type": "stream",
     "text": [
      "Reconstructed Images\n"
     ]
    },
    {
     "data": {
      "image/png": "[encoded data removed]",
      "text/plain": [
       "<matplotlib.figure.Figure at 0x105335278>"
      ]
     },
     "metadata": {},
     "output_type": "display_data"
    }
   ],
   "source": [
    "# Start Training\n",
    "# Start a new TF session\n",
    "with tf.Session() as sess:\n",
    "\n",
    "    # Run the initializer\n",
    "    sess.run(init)\n",
    "\n",
    "    # Training\n",
    "    for i in range(1, num_steps+1):\n",
    "        # Prepare Data\n",
    "        # Get the next batch of MNIST data (only images are needed, not labels)\n",
    "        batch_x, _ = mnist.train.next_batch(batch_size)\n",
    "\n",
    "        # Run optimization op (backprop) and cost op (to get loss value)\n",
    "        _, l = sess.run([optimizer, loss], feed_dict={X: batch_x})\n",
    "        # Display logs per step\n",
    "        if i % display_step == 0 or i == 1:\n",
    "            print('Step %i: Minibatch Loss: %f' % (i, l))\n",
    "\n",
    "    # Testing\n",
    "    # Encode and decode images from test set and visualize their reconstruction.\n",
    "    n = 4\n",
    "    canvas_orig = np.empty((28 * n, 28 * n))\n",
    "    canvas_recon = np.empty((28 * n, 28 * n))\n",
    "    for i in range(n):\n",
    "        # MNIST test set\n",
    "        batch_x, _ = mnist.test.next_batch(n)\n",
    "        # Encode and decode the digit image\n",
    "        g = sess.run(decoder_op, feed_dict={X: batch_x})\n",
    "\n",
    "        # Display original images\n",
    "        for j in range(n):\n",
    "            # Draw the original digits\n",
    "            canvas_orig[i * 28:(i + 1) * 28, j * 28:(j + 1) * 28] = \\\n",
    "                batch_x[j].reshape([28, 28])\n",
    "        # Display reconstructed images\n",
    "        for j in range(n):\n",
    "            # Draw the reconstructed digits\n",
    "            canvas_recon[i * 28:(i + 1) * 28, j * 28:(j + 1) * 28] = \\\n",
    "                g[j].reshape([28, 28])\n",
    "\n",
    "    print(\"Original Images\")\n",
    "    plt.figure(figsize=(n, n))\n",
    "    plt.imshow(canvas_orig, origin=\"upper\", cmap=\"gray\")\n",
    "    plt.show()\n",
    "\n",
    "    print(\"Reconstructed Images\")\n",
    "    plt.figure(figsize=(n, n))\n",
    "    plt.imshow(canvas_recon, origin=\"upper\", cmap=\"gray\")\n",
    "    plt.show()"
   ]
  },
  {
   "cell_type": "code",
   "execution_count": 45,
   "metadata": {},
   "outputs": [
    {
     "name": "stdout",
     "output_type": "stream",
     "text": [
      "Step 1: Minibatch Loss: 0.453761\n",
      "Step 1000: Minibatch Loss: 0.153509\n",
      "Step 2000: Minibatch Loss: 0.134463\n",
      "Step 3000: Minibatch Loss: 0.116170\n",
      "Step 4000: Minibatch Loss: 0.112446\n",
      "Step 5000: Minibatch Loss: 0.111288\n",
      "Step 6000: Minibatch Loss: 0.106027\n",
      "Step 7000: Minibatch Loss: 0.102923\n",
      "Step 8000: Minibatch Loss: 0.097654\n",
      "Step 9000: Minibatch Loss: 0.094053\n",
      "Step 10000: Minibatch Loss: 0.093544\n",
      "Step 11000: Minibatch Loss: 0.090734\n",
      "Step 12000: Minibatch Loss: 0.090934\n",
      "Step 13000: Minibatch Loss: 0.087987\n",
      "Step 14000: Minibatch Loss: 0.082880\n",
      "Step 15000: Minibatch Loss: 0.083342\n",
      "Step 16000: Minibatch Loss: 0.083005\n",
      "Step 17000: Minibatch Loss: 0.083709\n",
      "Step 18000: Minibatch Loss: 0.081252\n",
      "Step 19000: Minibatch Loss: 0.078164\n",
      "Step 20000: Minibatch Loss: 0.076561\n",
      "Step 21000: Minibatch Loss: 0.074254\n",
      "Step 22000: Minibatch Loss: 0.073300\n",
      "Step 23000: Minibatch Loss: 0.070548\n",
      "Step 24000: Minibatch Loss: 0.070712\n",
      "Step 25000: Minibatch Loss: 0.066636\n",
      "Step 26000: Minibatch Loss: 0.069425\n",
      "Step 27000: Minibatch Loss: 0.068904\n",
      "Step 28000: Minibatch Loss: 0.067225\n",
      "Step 29000: Minibatch Loss: 0.067183\n",
      "Step 30000: Minibatch Loss: 0.065443\n",
      "Original Images\n"
     ]
    },
    {
     "data": {
      "image/png": "[encoded data removed]",
      "text/plain": [
       "<matplotlib.figure.Figure at 0x1b1b1c42b0>"
      ]
     },
     "metadata": {},
     "output_type": "display_data"
    },
    {
     "name": "stdout",
     "output_type": "stream",
     "text": [
      "Reconstructed Images\n"
     ]
    },
    {
     "data": {
      "image/png": "[encoded data removed]",
      "text/plain": [
       "<matplotlib.figure.Figure at 0x1a6b8f5860>"
      ]
     },
     "metadata": {},
     "output_type": "display_data"
    }
   ],
   "source": [
    "## 3 layers\n",
    "\n",
    "# Training Parameters\n",
    "learning_rate = 0.01\n",
    "num_steps = 30000\n",
    "batch_size = 256\n",
    "\n",
    "display_step = 1000\n",
    "examples_to_show = 10\n",
    "\n",
    "# Network Parameters\n",
    "num_hidden_1 = 256 # 1st layer num features\n",
    "num_hidden_2 = 128 # 2nd layer num features (the latent dim)\n",
    "num_hidden_3 = 128\n",
    "num_input = 784 # MNIST data input (img shape: 28*28)\n",
    "\n",
    "# tf Graph input (only pictures)\n",
    "X = tf.placeholder(\"float\", [None, num_input])\n",
    "\n",
    "weights = {\n",
    "    'encoder_h1': tf.Variable(tf.random_normal([num_input, num_hidden_1])),\n",
    "    'encoder_h2': tf.Variable(tf.random_normal([num_hidden_1, num_hidden_2])),\n",
    "    'encoder_h3': tf.Variable(tf.random_normal([num_hidden_2, num_hidden_3])),\n",
    "    'decoder_h1': tf.Variable(tf.random_normal([num_hidden_3, num_hidden_2])),\n",
    "    'decoder_h2': tf.Variable(tf.random_normal([num_hidden_2, num_hidden_1])),\n",
    "    'decoder_h3': tf.Variable(tf.random_normal([num_hidden_1, num_input])),\n",
    "}\n",
    "biases = {\n",
    "    'encoder_b1': tf.Variable(tf.random_normal([num_hidden_1])),\n",
    "    'encoder_b2': tf.Variable(tf.random_normal([num_hidden_2])),\n",
    "    'encoder_b3': tf.Variable(tf.random_normal([num_hidden_3])),\n",
    "    'decoder_b1': tf.Variable(tf.random_normal([num_hidden_2])),\n",
    "    'decoder_b2': tf.Variable(tf.random_normal([num_hidden_1])),\n",
    "    'decoder_b3': tf.Variable(tf.random_normal([num_input])),\n",
    "}\n",
    "\n",
    "# Building the encoder\n",
    "def encoder(x):\n",
    "    # Encoder Hidden layer with sigmoid activation #1\n",
    "    layer_1 = tf.nn.sigmoid(tf.add(tf.matmul(x, weights['encoder_h1']),\n",
    "                                   biases['encoder_b1']))\n",
    "    # Encoder Hidden layer with sigmoid activation #2\n",
    "    layer_2 = tf.nn.sigmoid(tf.add(tf.matmul(layer_1, weights['encoder_h2']),\n",
    "                                   biases['encoder_b2']))\n",
    "    \n",
    "    layer_3 = tf.nn.sigmoid(tf.add(tf.matmul(layer_2, weights['encoder_h3']),\n",
    "                            biases['encoder_b3']))\n",
    "    \n",
    "    return layer_3\n",
    "\n",
    "\n",
    "# Building the decoder\n",
    "def decoder(x):\n",
    "    # Decoder Hidden layer with sigmoid activation #1\n",
    "    layer_1 = tf.nn.sigmoid(tf.add(tf.matmul(x, weights['decoder_h1']),\n",
    "                                   biases['decoder_b1']))\n",
    "    # Decoder Hidden layer with sigmoid activation #2\n",
    "    layer_2 = tf.nn.sigmoid(tf.add(tf.matmul(layer_1, weights['decoder_h2']),\n",
    "                                   biases['decoder_b2']))\n",
    "    \n",
    "    layer_3 = tf.nn.sigmoid(tf.add(tf.matmul(layer_2, weights['decoder_h3']),\n",
    "                                   biases['decoder_b3']))\n",
    "    \n",
    "    return layer_3\n",
    "\n",
    "# Construct model\n",
    "encoder_op = encoder(X)\n",
    "decoder_op = decoder(encoder_op)\n",
    "\n",
    "# Prediction\n",
    "y_pred = decoder_op\n",
    "# Targets (Labels) are the input data.\n",
    "y_true = X\n",
    "\n",
    "# Define loss and optimizer, minimize the squared error\n",
    "loss = tf.reduce_mean(tf.pow(y_true - y_pred, 2))\n",
    "optimizer = tf.train.RMSPropOptimizer(learning_rate).minimize(loss)\n",
    "\n",
    "# Initialize the variables (i.e. assign their default value)\n",
    "init = tf.global_variables_initializer()\n",
    "\n",
    "# Start Training\n",
    "# Start a new TF session\n",
    "with tf.Session() as sess:\n",
    "\n",
    "    # Run the initializer\n",
    "    sess.run(init)\n",
    "\n",
    "    # Training\n",
    "    for i in range(1, num_steps+1):\n",
    "        # Prepare Data\n",
    "        # Get the next batch of MNIST data (only images are needed, not labels)\n",
    "        batch_x, _ = mnist.train.next_batch(batch_size)\n",
    "\n",
    "        # Run optimization op (backprop) and cost op (to get loss value)\n",
    "        _, l = sess.run([optimizer, loss], feed_dict={X: batch_x})\n",
    "        # Display logs per step\n",
    "        if i % display_step == 0 or i == 1:\n",
    "            print('Step %i: Minibatch Loss: %f' % (i, l))\n",
    "\n",
    "    # Testing\n",
    "    # Encode and decode images from test set and visualize their reconstruction.\n",
    "    n = 4\n",
    "    canvas_orig = np.empty((28 * n, 28 * n))\n",
    "    canvas_recon = np.empty((28 * n, 28 * n))\n",
    "    for i in range(n):\n",
    "        # MNIST test set\n",
    "        batch_x, _ = mnist.test.next_batch(n)\n",
    "        # Encode and decode the digit image\n",
    "        g = sess.run(decoder_op, feed_dict={X: batch_x})\n",
    "\n",
    "        # Display original images\n",
    "        for j in range(n):\n",
    "            # Draw the original digits\n",
    "            canvas_orig[i * 28:(i + 1) * 28, j * 28:(j + 1) * 28] = \\\n",
    "                batch_x[j].reshape([28, 28])\n",
    "        # Display reconstructed images\n",
    "        for j in range(n):\n",
    "            # Draw the reconstructed digits\n",
    "            canvas_recon[i * 28:(i + 1) * 28, j * 28:(j + 1) * 28] = \\\n",
    "                g[j].reshape([28, 28])\n",
    "\n",
    "    print(\"Original Images\")\n",
    "    plt.figure(figsize=(n, n))\n",
    "    plt.imshow(canvas_orig, origin=\"upper\", cmap=\"gray\")\n",
    "    plt.show()\n",
    "\n",
    "    print(\"Reconstructed Images\")\n",
    "    plt.figure(figsize=(n, n))\n",
    "    plt.imshow(canvas_recon, origin=\"upper\", cmap=\"gray\")\n",
    "    plt.show()"
   ]
  },
  {
   "cell_type": "code",
   "execution_count": 46,
   "metadata": {},
   "outputs": [
    {
     "name": "stdout",
     "output_type": "stream",
     "text": [
      "Step 1: Minibatch Loss: 0.437083\n",
      "Step 1000: Minibatch Loss: 0.062815\n",
      "Step 2000: Minibatch Loss: 0.050702\n",
      "Step 3000: Minibatch Loss: 0.042015\n",
      "Step 4000: Minibatch Loss: 0.041027\n",
      "Step 5000: Minibatch Loss: 0.038886\n",
      "Step 6000: Minibatch Loss: 0.037989\n",
      "Step 7000: Minibatch Loss: 0.036672\n",
      "Step 8000: Minibatch Loss: 0.035869\n",
      "Step 9000: Minibatch Loss: 0.033540\n",
      "Step 10000: Minibatch Loss: 0.033888\n",
      "Step 11000: Minibatch Loss: 0.032934\n",
      "Step 12000: Minibatch Loss: 0.033331\n",
      "Step 13000: Minibatch Loss: 0.032289\n",
      "Step 14000: Minibatch Loss: 0.031724\n",
      "Step 15000: Minibatch Loss: 0.031364\n",
      "Step 16000: Minibatch Loss: 0.031280\n",
      "Step 17000: Minibatch Loss: 0.028885\n",
      "Step 18000: Minibatch Loss: 0.030108\n",
      "Step 19000: Minibatch Loss: 0.029867\n",
      "Step 20000: Minibatch Loss: 0.030828\n",
      "Step 21000: Minibatch Loss: 0.029398\n",
      "Step 22000: Minibatch Loss: 0.028958\n",
      "Step 23000: Minibatch Loss: 0.027068\n",
      "Step 24000: Minibatch Loss: 0.028041\n",
      "Step 25000: Minibatch Loss: 0.028158\n",
      "Step 26000: Minibatch Loss: 0.028113\n",
      "Step 27000: Minibatch Loss: 0.027558\n",
      "Step 28000: Minibatch Loss: 0.027886\n",
      "Step 29000: Minibatch Loss: 0.029185\n",
      "Step 30000: Minibatch Loss: 0.028702\n",
      "Original Images\n"
     ]
    },
    {
     "data": {
      "image/png": "[encoded data removed]",
      "text/plain": [
       "<matplotlib.figure.Figure at 0x1b1840da90>"
      ]
     },
     "metadata": {},
     "output_type": "display_data"
    },
    {
     "name": "stdout",
     "output_type": "stream",
     "text": [
      "Reconstructed Images\n"
     ]
    },
    {
     "data": {
      "image/png": "[encoded data removed]",
      "text/plain": [
       "<matplotlib.figure.Figure at 0x1a72a562e8>"
      ]
     },
     "metadata": {},
     "output_type": "display_data"
    }
   ],
   "source": [
    "## 1 layer\n",
    "\n",
    "# Training Parameters\n",
    "learning_rate = 0.01\n",
    "num_steps = 30000\n",
    "batch_size = 256\n",
    "\n",
    "display_step = 1000\n",
    "examples_to_show = 10\n",
    "\n",
    "# Network Parameters\n",
    "num_hidden_1 = 256 # 1st layer num features\n",
    "num_hidden_2 = 128 # 2nd layer num features (the latent dim)\n",
    "num_hidden_3 = 128\n",
    "num_input = 784 # MNIST data input (img shape: 28*28)\n",
    "\n",
    "# tf Graph input (only pictures)\n",
    "X = tf.placeholder(\"float\", [None, num_input])\n",
    "\n",
    "weights = {\n",
    "    'encoder_h1': tf.Variable(tf.random_normal([num_input, num_hidden_1])),\n",
    "#    'encoder_h2': tf.Variable(tf.random_normal([num_hidden_1, num_hidden_2])),\n",
    "#    'encoder_h3': tf.Variable(tf.random_normal([num_hidden_2, num_hidden_3])),\n",
    "    'decoder_h1': tf.Variable(tf.random_normal([num_hidden_1, num_input])),\n",
    "#    'decoder_h2': tf.Variable(tf.random_normal([num_hidden_2, num_hidden_1])),\n",
    "#    'decoder_h3': tf.Variable(tf.random_normal([num_hidden_1, num_input])),\n",
    "}\n",
    "biases = {\n",
    "    'encoder_b1': tf.Variable(tf.random_normal([num_hidden_1])),\n",
    "#    'encoder_b2': tf.Variable(tf.random_normal([num_hidden_2])),\n",
    "#    'encoder_b3': tf.Variable(tf.random_normal([num_hidden_3])),\n",
    "#    'decoder_b1': tf.Variable(tf.random_normal([num_hidden_2])),\n",
    "#    'decoder_b2': tf.Variable(tf.random_normal([num_hidden_1])),\n",
    "    'decoder_b1': tf.Variable(tf.random_normal([num_input])),\n",
    "}\n",
    "\n",
    "# Building the encoder\n",
    "def encoder(x):\n",
    "    # Encoder Hidden layer with sigmoid activation #1\n",
    "    layer_1 = tf.nn.sigmoid(tf.add(tf.matmul(x, weights['encoder_h1']),\n",
    "                                   biases['encoder_b1']))\n",
    "    # Encoder Hidden layer with sigmoid activation #2\n",
    "#    layer_2 = tf.nn.sigmoid(tf.add(tf.matmul(layer_1, weights['encoder_h2']),\n",
    "#                                   biases['encoder_b2']))\n",
    "#    \n",
    "#    layer_3 = tf.nn.sigmoid(tf.add(tf.matmul(layer_2, weights['encoder_h3']),\n",
    "#                            biases['encoder_b3']))\n",
    "    \n",
    "    return layer_1\n",
    "\n",
    "\n",
    "# Building the decoder\n",
    "def decoder(x):\n",
    "    # Decoder Hidden layer with sigmoid activation #1\n",
    "    layer_1 = tf.nn.sigmoid(tf.add(tf.matmul(x, weights['decoder_h1']),\n",
    "                                   biases['decoder_b1']))\n",
    "    # Decoder Hidden layer with sigmoid activation #2\n",
    "#    layer_2 = tf.nn.sigmoid(tf.add(tf.matmul(layer_1, weights['decoder_h2']),\n",
    "#                                   biases['decoder_b2']))\n",
    "    \n",
    "#    layer_3 = tf.nn.sigmoid(tf.add(tf.matmul(layer_2, weights['decoder_h3']),\n",
    "#                                   biases['decoder_b3']))\n",
    "    \n",
    "    return layer_1\n",
    "\n",
    "# Construct model\n",
    "encoder_op = encoder(X)\n",
    "decoder_op = decoder(encoder_op)\n",
    "\n",
    "# Prediction\n",
    "y_pred = decoder_op\n",
    "# Targets (Labels) are the input data.\n",
    "y_true = X\n",
    "\n",
    "# Define loss and optimizer, minimize the squared error\n",
    "loss = tf.reduce_mean(tf.pow(y_true - y_pred, 2))\n",
    "optimizer = tf.train.RMSPropOptimizer(learning_rate).minimize(loss)\n",
    "\n",
    "# Initialize the variables (i.e. assign their default value)\n",
    "init = tf.global_variables_initializer()\n",
    "\n",
    "# Start Training\n",
    "# Start a new TF session\n",
    "with tf.Session() as sess:\n",
    "\n",
    "    # Run the initializer\n",
    "    sess.run(init)\n",
    "\n",
    "    # Training\n",
    "    for i in range(1, num_steps+1):\n",
    "        # Prepare Data\n",
    "        # Get the next batch of MNIST data (only images are needed, not labels)\n",
    "        batch_x, _ = mnist.train.next_batch(batch_size)\n",
    "\n",
    "        # Run optimization op (backprop) and cost op (to get loss value)\n",
    "        _, l = sess.run([optimizer, loss], feed_dict={X: batch_x})\n",
    "        # Display logs per step\n",
    "        if i % display_step == 0 or i == 1:\n",
    "            print('Step %i: Minibatch Loss: %f' % (i, l))\n",
    "\n",
    "    # Testing\n",
    "    # Encode and decode images from test set and visualize their reconstruction.\n",
    "    n = 4\n",
    "    canvas_orig = np.empty((28 * n, 28 * n))\n",
    "    canvas_recon = np.empty((28 * n, 28 * n))\n",
    "    for i in range(n):\n",
    "        # MNIST test set\n",
    "        batch_x, _ = mnist.test.next_batch(n)\n",
    "        # Encode and decode the digit image\n",
    "        g = sess.run(decoder_op, feed_dict={X: batch_x})\n",
    "\n",
    "        # Display original images\n",
    "        for j in range(n):\n",
    "            # Draw the original digits\n",
    "            canvas_orig[i * 28:(i + 1) * 28, j * 28:(j + 1) * 28] = \\\n",
    "                batch_x[j].reshape([28, 28])\n",
    "        # Display reconstructed images\n",
    "        for j in range(n):\n",
    "            # Draw the reconstructed digits\n",
    "            canvas_recon[i * 28:(i + 1) * 28, j * 28:(j + 1) * 28] = \\\n",
    "                g[j].reshape([28, 28])\n",
    "\n",
    "    print(\"Original Images\")\n",
    "    plt.figure(figsize=(n, n))\n",
    "    plt.imshow(canvas_orig, origin=\"upper\", cmap=\"gray\")\n",
    "    plt.show()\n",
    "\n",
    "    print(\"Reconstructed Images\")\n",
    "    plt.figure(figsize=(n, n))\n",
    "    plt.imshow(canvas_recon, origin=\"upper\", cmap=\"gray\")\n",
    "    plt.show()"
   ]
  },
  {
   "cell_type": "code",
   "execution_count": 47,
   "metadata": {},
   "outputs": [
    {
     "name": "stdout",
     "output_type": "stream",
     "text": [
      "Step 1: Minibatch Loss: 0.459263\n",
      "Step 1000: Minibatch Loss: 0.184586\n",
      "Step 2000: Minibatch Loss: 0.165758\n",
      "Step 3000: Minibatch Loss: 0.152519\n",
      "Step 4000: Minibatch Loss: 0.147149\n",
      "Step 5000: Minibatch Loss: 0.136077\n",
      "Step 6000: Minibatch Loss: 0.132212\n",
      "Step 7000: Minibatch Loss: 0.129097\n",
      "Step 8000: Minibatch Loss: 0.127588\n",
      "Step 9000: Minibatch Loss: 0.122332\n",
      "Step 10000: Minibatch Loss: 0.120702\n",
      "Step 11000: Minibatch Loss: 0.119322\n",
      "Step 12000: Minibatch Loss: 0.117464\n",
      "Step 13000: Minibatch Loss: 0.115399\n",
      "Step 14000: Minibatch Loss: 0.113046\n",
      "Step 15000: Minibatch Loss: 0.112921\n",
      "Step 16000: Minibatch Loss: 0.112920\n",
      "Step 17000: Minibatch Loss: 0.112881\n",
      "Step 18000: Minibatch Loss: 0.109798\n",
      "Step 19000: Minibatch Loss: 0.108396\n",
      "Step 20000: Minibatch Loss: 0.110454\n",
      "Step 21000: Minibatch Loss: 0.109331\n",
      "Step 22000: Minibatch Loss: 0.109478\n",
      "Step 23000: Minibatch Loss: 0.108178\n",
      "Step 24000: Minibatch Loss: 0.106661\n",
      "Step 25000: Minibatch Loss: 0.105400\n",
      "Step 26000: Minibatch Loss: 0.105557\n",
      "Step 27000: Minibatch Loss: 0.103522\n",
      "Step 28000: Minibatch Loss: 0.104982\n",
      "Step 29000: Minibatch Loss: 0.102008\n",
      "Step 30000: Minibatch Loss: 0.101577\n",
      "Original Images\n"
     ]
    },
    {
     "data": {
      "image/png": "[encoded data removed]",
      "text/plain": [
       "<matplotlib.figure.Figure at 0x1b176a5668>"
      ]
     },
     "metadata": {},
     "output_type": "display_data"
    },
    {
     "name": "stdout",
     "output_type": "stream",
     "text": [
      "Reconstructed Images\n"
     ]
    },
    {
     "data": {
      "image/png": "[encoded data removed]",
      "text/plain": [
       "<matplotlib.figure.Figure at 0x1b49614dd8>"
      ]
     },
     "metadata": {},
     "output_type": "display_data"
    }
   ],
   "source": [
    "# Network Parameters\n",
    "num_hidden_1 = 512 # 1st layer num features\n",
    "num_hidden_2 = 256 # 2nd layer num features (the latent dim)\n",
    "num_input = 784 # MNIST data input (img shape: 28*28)\n",
    "\n",
    "# tf Graph input (only pictures)\n",
    "X = tf.placeholder(\"float\", [None, num_input])\n",
    "\n",
    "weights = {\n",
    "    'encoder_h1': tf.Variable(tf.random_normal([num_input, num_hidden_1])),\n",
    "    'encoder_h2': tf.Variable(tf.random_normal([num_hidden_1, num_hidden_2])),\n",
    "    'decoder_h1': tf.Variable(tf.random_normal([num_hidden_2, num_hidden_1])),\n",
    "    'decoder_h2': tf.Variable(tf.random_normal([num_hidden_1, num_input])),\n",
    "}\n",
    "biases = {\n",
    "    'encoder_b1': tf.Variable(tf.random_normal([num_hidden_1])),\n",
    "    'encoder_b2': tf.Variable(tf.random_normal([num_hidden_2])),\n",
    "    'decoder_b1': tf.Variable(tf.random_normal([num_hidden_1])),\n",
    "    'decoder_b2': tf.Variable(tf.random_normal([num_input])),\n",
    "}\n",
    "\n",
    "# Building the encoder\n",
    "def encoder(x):\n",
    "    # Encoder Hidden layer with sigmoid activation #1\n",
    "    layer_1 = tf.nn.sigmoid(tf.add(tf.matmul(x, weights['encoder_h1']),\n",
    "                                   biases['encoder_b1']))\n",
    "    # Encoder Hidden layer with sigmoid activation #2\n",
    "    layer_2 = tf.nn.sigmoid(tf.add(tf.matmul(layer_1, weights['encoder_h2']),\n",
    "                                   biases['encoder_b2']))\n",
    "    return layer_2\n",
    "\n",
    "\n",
    "# Building the decoder\n",
    "def decoder(x):\n",
    "    # Decoder Hidden layer with sigmoid activation #1\n",
    "    layer_1 = tf.nn.sigmoid(tf.add(tf.matmul(x, weights['decoder_h1']),\n",
    "                                   biases['decoder_b1']))\n",
    "    # Decoder Hidden layer with sigmoid activation #2\n",
    "    layer_2 = tf.nn.sigmoid(tf.add(tf.matmul(layer_1, weights['decoder_h2']),\n",
    "                                   biases['decoder_b2']))\n",
    "    return layer_2\n",
    "\n",
    "# Construct model\n",
    "encoder_op = encoder(X)\n",
    "decoder_op = decoder(encoder_op)\n",
    "\n",
    "# Prediction\n",
    "y_pred = decoder_op\n",
    "# Targets (Labels) are the input data.\n",
    "y_true = X\n",
    "\n",
    "# Define loss and optimizer, minimize the squared error\n",
    "loss = tf.reduce_mean(tf.pow(y_true - y_pred, 2))\n",
    "optimizer = tf.train.RMSPropOptimizer(learning_rate).minimize(loss)\n",
    "\n",
    "# Initialize the variables (i.e. assign their default value)\n",
    "init = tf.global_variables_initializer()\n",
    "\n",
    "# Start Training\n",
    "# Start a new TF session\n",
    "with tf.Session() as sess:\n",
    "\n",
    "    # Run the initializer\n",
    "    sess.run(init)\n",
    "\n",
    "    # Training\n",
    "    for i in range(1, num_steps+1):\n",
    "        # Prepare Data\n",
    "        # Get the next batch of MNIST data (only images are needed, not labels)\n",
    "        batch_x, _ = mnist.train.next_batch(batch_size)\n",
    "\n",
    "        # Run optimization op (backprop) and cost op (to get loss value)\n",
    "        _, l = sess.run([optimizer, loss], feed_dict={X: batch_x})\n",
    "        # Display logs per step\n",
    "        if i % display_step == 0 or i == 1:\n",
    "            print('Step %i: Minibatch Loss: %f' % (i, l))\n",
    "\n",
    "    # Testing\n",
    "    # Encode and decode images from test set and visualize their reconstruction.\n",
    "    n = 4\n",
    "    canvas_orig = np.empty((28 * n, 28 * n))\n",
    "    canvas_recon = np.empty((28 * n, 28 * n))\n",
    "    for i in range(n):\n",
    "        # MNIST test set\n",
    "        batch_x, _ = mnist.test.next_batch(n)\n",
    "        # Encode and decode the digit image\n",
    "        g = sess.run(decoder_op, feed_dict={X: batch_x})\n",
    "\n",
    "        # Display original images\n",
    "        for j in range(n):\n",
    "            # Draw the original digits\n",
    "            canvas_orig[i * 28:(i + 1) * 28, j * 28:(j + 1) * 28] = \\\n",
    "                batch_x[j].reshape([28, 28])\n",
    "        # Display reconstructed images\n",
    "        for j in range(n):\n",
    "            # Draw the reconstructed digits\n",
    "            canvas_recon[i * 28:(i + 1) * 28, j * 28:(j + 1) * 28] = \\\n",
    "                g[j].reshape([28, 28])\n",
    "\n",
    "    print(\"Original Images\")\n",
    "    plt.figure(figsize=(n, n))\n",
    "    plt.imshow(canvas_orig, origin=\"upper\", cmap=\"gray\")\n",
    "    plt.show()\n",
    "\n",
    "    print(\"Reconstructed Images\")\n",
    "    plt.figure(figsize=(n, n))\n",
    "    plt.imshow(canvas_recon, origin=\"upper\", cmap=\"gray\")\n",
    "    plt.show()"
   ]
  },
  {
   "cell_type": "code",
   "execution_count": 55,
   "metadata": {},
   "outputs": [
    {
     "name": "stdout",
     "output_type": "stream",
     "text": [
      "Step 1: Minibatch Loss: 0.429548\n",
      "Step 1000: Minibatch Loss: 0.106672\n",
      "Step 2000: Minibatch Loss: 0.087508\n",
      "Step 3000: Minibatch Loss: 0.075716\n",
      "Step 4000: Minibatch Loss: 0.071136\n",
      "Step 5000: Minibatch Loss: 0.065866\n",
      "Step 6000: Minibatch Loss: 0.058534\n",
      "Step 7000: Minibatch Loss: 0.051456\n",
      "Step 8000: Minibatch Loss: 0.052240\n",
      "Step 9000: Minibatch Loss: 0.050507\n",
      "Step 10000: Minibatch Loss: 0.047095\n",
      "Step 11000: Minibatch Loss: 0.047255\n",
      "Step 12000: Minibatch Loss: 0.043540\n",
      "Step 13000: Minibatch Loss: 0.041170\n",
      "Step 14000: Minibatch Loss: 0.044471\n",
      "Step 15000: Minibatch Loss: 0.040459\n",
      "Step 16000: Minibatch Loss: 0.039216\n",
      "Step 17000: Minibatch Loss: 0.037148\n",
      "Step 18000: Minibatch Loss: 0.038223\n",
      "Step 19000: Minibatch Loss: 0.036484\n",
      "Step 20000: Minibatch Loss: 0.033776\n",
      "Step 21000: Minibatch Loss: 0.033020\n",
      "Step 22000: Minibatch Loss: 0.033972\n",
      "Step 23000: Minibatch Loss: 0.032227\n",
      "Step 24000: Minibatch Loss: 0.031148\n",
      "Step 25000: Minibatch Loss: 0.030257\n",
      "Step 26000: Minibatch Loss: 0.029476\n",
      "Step 27000: Minibatch Loss: 0.031443\n",
      "Step 28000: Minibatch Loss: 0.030324\n",
      "Step 29000: Minibatch Loss: 0.030534\n",
      "Step 30000: Minibatch Loss: 0.026407\n",
      "Original Images\n"
     ]
    },
    {
     "data": {
      "image/png": "[encoded data removed]",
      "text/plain": [
       "<matplotlib.figure.Figure at 0x1b54212278>"
      ]
     },
     "metadata": {},
     "output_type": "display_data"
    },
    {
     "name": "stdout",
     "output_type": "stream",
     "text": [
      "Reconstructed Images\n"
     ]
    },
    {
     "data": {
      "image/png": "[encoded data removed]",
      "text/plain": [
       "<matplotlib.figure.Figure at 0x1b54e6ba58>"
      ]
     },
     "metadata": {},
     "output_type": "display_data"
    }
   ],
   "source": [
    "# Network Parameters\n",
    "num_hidden_1 = 128 # 1st layer num features\n",
    "num_hidden_2 = 64 # 2nd layer num features (the latent dim)\n",
    "num_input = 784 # MNIST data input (img shape: 28*28)\n",
    "\n",
    "# tf Graph input (only pictures)\n",
    "X = tf.placeholder(\"float\", [None, num_input])\n",
    "\n",
    "weights = {\n",
    "    'encoder_h1': tf.Variable(tf.random_normal([num_input, num_hidden_1])),\n",
    "    'encoder_h2': tf.Variable(tf.random_normal([num_hidden_1, num_hidden_2])),\n",
    "    'decoder_h1': tf.Variable(tf.random_normal([num_hidden_2, num_hidden_1])),\n",
    "    'decoder_h2': tf.Variable(tf.random_normal([num_hidden_1, num_input])),\n",
    "}\n",
    "biases = {\n",
    "    'encoder_b1': tf.Variable(tf.random_normal([num_hidden_1])),\n",
    "    'encoder_b2': tf.Variable(tf.random_normal([num_hidden_2])),\n",
    "    'decoder_b1': tf.Variable(tf.random_normal([num_hidden_1])),\n",
    "    'decoder_b2': tf.Variable(tf.random_normal([num_input])),\n",
    "}\n",
    "\n",
    "# Building the encoder\n",
    "def encoder(x):\n",
    "    # Encoder Hidden layer with sigmoid activation #1\n",
    "    layer_1 = tf.nn.sigmoid(tf.add(tf.matmul(x, weights['encoder_h1']),\n",
    "                                   biases['encoder_b1']))\n",
    "    # Encoder Hidden layer with sigmoid activation #2\n",
    "    layer_2 = tf.nn.sigmoid(tf.add(tf.matmul(layer_1, weights['encoder_h2']),\n",
    "                                   biases['encoder_b2']))\n",
    "    return layer_2\n",
    "\n",
    "\n",
    "# Building the decoder\n",
    "def decoder(x):\n",
    "    # Decoder Hidden layer with sigmoid activation #1\n",
    "    layer_1 = tf.nn.sigmoid(tf.add(tf.matmul(x, weights['decoder_h1']),\n",
    "                                   biases['decoder_b1']))\n",
    "    # Decoder Hidden layer with sigmoid activation #2\n",
    "    layer_2 = tf.nn.sigmoid(tf.add(tf.matmul(layer_1, weights['decoder_h2']),\n",
    "                                   biases['decoder_b2']))\n",
    "    return layer_2\n",
    "\n",
    "# Construct model\n",
    "encoder_op = encoder(X)\n",
    "decoder_op = decoder(encoder_op)\n",
    "\n",
    "# Prediction\n",
    "y_pred = decoder_op\n",
    "# Targets (Labels) are the input data.\n",
    "y_true = X\n",
    "\n",
    "# Define loss and optimizer, minimize the squared error\n",
    "loss = tf.reduce_mean(tf.pow(y_true - y_pred, 2))\n",
    "optimizer = tf.train.RMSPropOptimizer(learning_rate).minimize(loss)\n",
    "\n",
    "# Initialize the variables (i.e. assign their default value)\n",
    "init = tf.global_variables_initializer()\n",
    "\n",
    "# Start Training\n",
    "# Start a new TF session\n",
    "with tf.Session() as sess:\n",
    "\n",
    "    # Run the initializer\n",
    "    sess.run(init)\n",
    "\n",
    "    # Training\n",
    "    for i in range(1, num_steps+1):\n",
    "        # Prepare Data\n",
    "        # Get the next batch of MNIST data (only images are needed, not labels)\n",
    "        batch_x, _ = mnist.train.next_batch(batch_size)\n",
    "\n",
    "        # Run optimization op (backprop) and cost op (to get loss value)\n",
    "        _, l = sess.run([optimizer, loss], feed_dict={X: batch_x})\n",
    "        # Display logs per step\n",
    "        if i % display_step == 0 or i == 1:\n",
    "            print('Step %i: Minibatch Loss: %f' % (i, l))\n",
    "\n",
    "    # Testing\n",
    "    # Encode and decode images from test set and visualize their reconstruction.\n",
    "    n = 4\n",
    "    canvas_orig = np.empty((28 * n, 28 * n))\n",
    "    canvas_recon = np.empty((28 * n, 28 * n))\n",
    "    for i in range(n):\n",
    "        # MNIST test set\n",
    "        batch_x, _ = mnist.test.next_batch(n)\n",
    "        # Encode and decode the digit image\n",
    "        g = sess.run(decoder_op, feed_dict={X: batch_x})\n",
    "\n",
    "        # Display original images\n",
    "        for j in range(n):\n",
    "            # Draw the original digits\n",
    "            canvas_orig[i * 28:(i + 1) * 28, j * 28:(j + 1) * 28] = \\\n",
    "                batch_x[j].reshape([28, 28])\n",
    "        # Display reconstructed images\n",
    "        for j in range(n):\n",
    "            # Draw the reconstructed digits\n",
    "            canvas_recon[i * 28:(i + 1) * 28, j * 28:(j + 1) * 28] = \\\n",
    "                g[j].reshape([28, 28])\n",
    "\n",
    "    print(\"Original Images\")\n",
    "    plt.figure(figsize=(n, n))\n",
    "    plt.imshow(canvas_orig, origin=\"upper\", cmap=\"gray\")\n",
    "    plt.show()\n",
    "\n",
    "    print(\"Reconstructed Images\")\n",
    "    plt.figure(figsize=(n, n))\n",
    "    plt.imshow(canvas_recon, origin=\"upper\", cmap=\"gray\")\n",
    "    plt.show()\n",
    "    saver = tf.train.Saver()\n",
    "    saver.save(sess, './mnist_2layer_128', global_step=1000)"
   ]
  },
  {
   "cell_type": "code",
   "execution_count": 56,
   "metadata": {},
   "outputs": [],
   "source": [
    "#restore\n",
    "\n",
    "sess = tf.Session()\n",
    "saver = tf.train.import_meta_graph('./mnist_2layer_128-1000.meta')"
   ]
  },
  {
   "cell_type": "code",
   "execution_count": null,
   "metadata": {},
   "outputs": [],
   "source": []
  }
 ],
 "metadata": {
  "kernelspec": {
   "display_name": "Python 3",
   "language": "python",
   "name": "python3"
  },
  "language_info": {
   "codemirror_mode": {
    "name": "ipython",
    "version": 3
   },
   "file_extension": ".py",
   "mimetype": "text/x-python",
   "name": "python",
   "nbconvert_exporter": "python",
   "pygments_lexer": "ipython3",
   "version": "3.6.4"
  }
 },
 "nbformat": 4,
 "nbformat_minor": 2
}
