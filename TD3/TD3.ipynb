{
 "cells": [
  {
   "cell_type": "code",
   "execution_count": 1,
   "metadata": {
    "ExecuteTime": {
     "end_time": "2018-11-14T12:10:23.179935Z",
     "start_time": "2018-11-14T12:10:22.521870Z"
    }
   },
   "outputs": [],
   "source": [
    "import numpy as np\n",
    "import pandas as pd\n",
    "\n",
    "from sklearn.model_selection import train_test_split\n",
    "from sklearn.metrics import confusion_matrix\n",
    "from sklearn.metrics import accuracy_score\n",
    "from sklearn.metrics import precision_score\n",
    "from sklearn.metrics import recall_score\n",
    "\n",
    "from sklearn.linear_model import LogisticRegression\n",
    "from sklearn.tree import DecisionTreeClassifier\n",
    "from sklearn.ensemble import RandomForestClassifier\n",
    "from sklearn.svm import SVC"
   ]
  },
  {
   "cell_type": "markdown",
   "metadata": {},
   "source": [
    "# VISUALISATION (sur la base du TD2)"
   ]
  },
  {
   "cell_type": "markdown",
   "metadata": {},
   "source": [
    "## 1. Charger l'ensemble des csv"
   ]
  },
  {
   "cell_type": "code",
   "execution_count": 2,
   "metadata": {
    "ExecuteTime": {
     "end_time": "2018-11-14T12:10:24.478884Z",
     "start_time": "2018-11-14T12:10:24.455494Z"
    }
   },
   "outputs": [],
   "source": [
    "class ReadCSV:\n",
    "    def __init__(self, path):\n",
    "        file = open(path)\n",
    "        self.path = path\n",
    "        self.file = file\n",
    "        self.data = pd.read_csv(file, encoding=\"utf-8\", skipinitialspace=True)\n",
    "\n",
    "    def Z(self):\n",
    "        data = self.data\n",
    "        # Remove U-FFFD.\n",
    "        data[\"Label\"] = data[\"Label\"].str.replace(\" � \", \": \")\n",
    "        # Remove Inf & NaN.\n",
    "        data.replace([np.inf, -np.inf], np.nan, inplace=True)\n",
    "        data = data.dropna(axis=0, how=\"any\")\n",
    "        # Remove object columns.\n",
    "        pre_X = data.iloc[:, :-1]\n",
    "        pre_y = data[\"Label\"]\n",
    "        for c in pre_X.loc[:, pre_X.dtypes == object]:\n",
    "            pre_X.drop(columns=c, inplace=True)\n",
    "        # Convert to float & remove Inf & NaN.\n",
    "        pre_X = pre_X.astype(np.float)\n",
    "        pre_X.replace([np.inf, -np.inf], np.nan, inplace=True)\n",
    "        pre_X[\"Label\"] = pre_y.values\n",
    "        Z = pre_X.dropna(axis=0, how=\"any\")\n",
    "        # Output.\n",
    "        X = Z.iloc[:, :-1]\n",
    "        y = Z[\"Label\"]\n",
    "        X = np.asarray(X).astype(np.float)\n",
    "        return X, y"
   ]
  },
  {
   "cell_type": "code",
   "execution_count": 3,
   "metadata": {
    "ExecuteTime": {
     "end_time": "2018-11-14T12:10:35.341464Z",
     "start_time": "2018-11-14T12:10:26.818519Z"
    }
   },
   "outputs": [],
   "source": [
    "Z1 = ReadCSV(\n",
    "    \"../Data/MachineLearningCVE/Thursday-WorkingHours-Morning-WebAttacks.pcap_ISCX.csv\"\n",
    ").Z()\n",
    "Z2 = ReadCSV(\n",
    "    \"../Data/MachineLearningCVE/Friday-WorkingHours-Morning.pcap_ISCX.csv\").Z(\n",
    "    )\n",
    "X = np.concatenate((Z1[0], Z2[0]))\n",
    "y = np.concatenate((Z1[1], Z2[1]))"
   ]
  },
  {
   "cell_type": "markdown",
   "metadata": {},
   "source": [
    "Les questions suivantes sont à appliquer aux algorithmes \"decision tree\", \"random forest\", et \"svm\". On suppose que les datasets train/test sont en proportion 70%/30%"
   ]
  },
  {
   "cell_type": "code",
   "execution_count": 4,
   "metadata": {
    "ExecuteTime": {
     "end_time": "2018-11-14T12:10:38.172534Z",
     "start_time": "2018-11-14T12:10:37.809601Z"
    }
   },
   "outputs": [
    {
     "name": "stdout",
     "output_type": "stream",
     "text": [
      "(252945, 76) (108406, 76)\n"
     ]
    }
   ],
   "source": [
    "X_train, X_test, y_train, y_test = train_test_split(X, y, test_size=0.3)\n",
    "print(X_train.shape, X_test.shape)"
   ]
  },
  {
   "cell_type": "code",
   "execution_count": 5,
   "metadata": {
    "ExecuteTime": {
     "end_time": "2018-11-14T12:10:39.277840Z",
     "start_time": "2018-11-14T12:10:39.272970Z"
    }
   },
   "outputs": [],
   "source": [
    "class Score:\n",
    "    def __init__(self, y_true, y_pred):\n",
    "        self.true = y_true\n",
    "        self.pred = y_pred\n",
    "\n",
    "    def confusion(self):\n",
    "        return confusion_matrix(self.true, self.pred)\n",
    "\n",
    "    def accuracy(self):\n",
    "        return accuracy_score(self.true, self.pred)\n",
    "\n",
    "    def precision(self):\n",
    "        return precision_score(self.true, self.pred, average='weighted')\n",
    "\n",
    "    def recall(self):\n",
    "        return recall_score(self.true, self.pred, average='weighted')"
   ]
  },
  {
   "cell_type": "code",
   "execution_count": 6,
   "metadata": {
    "ExecuteTime": {
     "end_time": "2018-11-14T12:10:48.438258Z",
     "start_time": "2018-11-14T12:10:41.912178Z"
    }
   },
   "outputs": [],
   "source": [
    "dt = DecisionTreeClassifier().fit(X_train, y_train)"
   ]
  },
  {
   "cell_type": "code",
   "execution_count": 7,
   "metadata": {
    "ExecuteTime": {
     "end_time": "2018-11-14T12:10:56.060566Z",
     "start_time": "2018-11-14T12:10:49.433861Z"
    }
   },
   "outputs": [],
   "source": [
    "rf = DecisionTreeClassifier().fit(X_train, y_train)"
   ]
  },
  {
   "cell_type": "code",
   "execution_count": null,
   "metadata": {
    "ExecuteTime": {
     "start_time": "2018-11-14T12:07:38.646Z"
    }
   },
   "outputs": [],
   "source": [
    "# svm = SVC(gamma=\"auto\").fit(X_train, y_train)"
   ]
  },
  {
   "cell_type": "markdown",
   "metadata": {},
   "source": [
    "## 2. Afficher les matrices de confusion et interpréter, avec les paramètres des algorithmes par défaut"
   ]
  },
  {
   "cell_type": "code",
   "execution_count": 8,
   "metadata": {
    "ExecuteTime": {
     "end_time": "2018-11-14T12:10:59.580029Z",
     "start_time": "2018-11-14T12:10:58.631666Z"
    }
   },
   "outputs": [
    {
     "name": "stdout",
     "output_type": "stream",
     "text": [
      "['BENIGN' 'Bot' 'Web Attack: Brute Force' 'Web Attack: Sql Injection'\n",
      " 'Web Attack: XSS'] \n",
      "\n",
      "[[107118      7      8      3      5]\n",
      " [    13    602      0      0      0]\n",
      " [     4      0    345      0    112]\n",
      " [     2      0      0      1      0]\n",
      " [     3      0     98      0     85]] \n",
      "\n",
      "[[107115     11      7      2      6]\n",
      " [    11    604      0      0      0]\n",
      " [     5      0    346      1    109]\n",
      " [     1      0      0      2      0]\n",
      " [     4      0    101      0     81]]\n"
     ]
    }
   ],
   "source": [
    "print(np.unique(y), \"\\n\")\n",
    "print(Score(y_test, dt.predict(X_test)).confusion(), \"\\n\")\n",
    "print(Score(y_test, rf.predict(X_test)).confusion())"
   ]
  },
  {
   "cell_type": "markdown",
   "metadata": {},
   "source": [
    "## 3. Pour une liste de valeur d'un paramètre choisi (*), calculer les métriques suivantes et les afficher (métrique = f(paramètre)):\n",
    "\n",
    "- accuracy\n",
    "\n",
    "- precision\n",
    "\n",
    "- recall\n",
    "\n",
    "(*) paramètres \"max_depth\" pour decision tree et random forest, \"n_estimators\" aussi pour random forest, \"kernel\" pour SVM"
   ]
  },
  {
   "cell_type": "code",
   "execution_count": 9,
   "metadata": {
    "ExecuteTime": {
     "end_time": "2018-11-14T12:13:18.723209Z",
     "start_time": "2018-11-14T12:13:17.030541Z"
    }
   },
   "outputs": [
    {
     "name": "stdout",
     "output_type": "stream",
     "text": [
      "0.9976477316753686\n",
      "0.9976200579303729 \n",
      "\n",
      "0.9977178184167148\n",
      "0.9976698814515633 \n",
      "\n",
      "0.9976477316753686\n",
      "0.9976200579303729\n"
     ]
    }
   ],
   "source": [
    "print(Score(y_test, dt.predict(X_test)).accuracy())\n",
    "print(Score(y_test, rf.predict(X_test)).accuracy(), \"\\n\")\n",
    "print(Score(y_test, dt.predict(X_test)).precision())\n",
    "print(Score(y_test, rf.predict(X_test)).precision(), \"\\n\")\n",
    "print(Score(y_test, dt.predict(X_test)).recall())\n",
    "print(Score(y_test, rf.predict(X_test)).recall())"
   ]
  },
  {
   "cell_type": "markdown",
   "metadata": {},
   "source": [
    "## 4. Faire un choix de paramètres intéressant (un choix par algorithme), en le justifiant. Pour ce choix, afficher la matrice de confusion correspondante et la comparer à celle de la question 2."
   ]
  },
  {
   "cell_type": "code",
   "execution_count": null,
   "metadata": {},
   "outputs": [],
   "source": []
  },
  {
   "cell_type": "markdown",
   "metadata": {},
   "source": [
    "## 5. Pour ce même choix, faire varier les proportions train/test par tranche de 10% (10%/90%, 20%/80%, ...) et observer le comportement des métriques de la question 3. Interpréter."
   ]
  },
  {
   "cell_type": "code",
   "execution_count": null,
   "metadata": {},
   "outputs": [],
   "source": []
  },
  {
   "cell_type": "markdown",
   "metadata": {},
   "source": [
    "# TENSOR-FLOW"
   ]
  },
  {
   "cell_type": "markdown",
   "metadata": {},
   "source": [
    "## 1. Installer tensor-flow"
   ]
  },
  {
   "cell_type": "markdown",
   "metadata": {},
   "source": [
    "## 2. Faire tourner le code du tutoriel suivant (reconstruction d'images avec un autoencoder):\n",
    "\n",
    "https://github.com/aymericdamien/TensorFlow-Examples/blob/master/examples/3_NeuralNetworks/autoencoder.py"
   ]
  },
  {
   "cell_type": "code",
   "execution_count": 13,
   "metadata": {
    "ExecuteTime": {
     "end_time": "2018-11-14T12:56:28.258697Z",
     "start_time": "2018-11-14T12:56:28.252983Z"
    }
   },
   "outputs": [],
   "source": [
    "# exec(open(\"autoencoder.py\").read())"
   ]
  },
  {
   "cell_type": "markdown",
   "metadata": {},
   "source": [
    "# QUESTION\n",
    "\n",
    "Comment pourrait-on adapter le tuto autoencoder de tensor-flow pour analysre nos données réseaux ?"
   ]
  },
  {
   "cell_type": "code",
   "execution_count": null,
   "metadata": {},
   "outputs": [],
   "source": []
  }
 ],
 "metadata": {
  "kernelspec": {
   "display_name": "Python [conda env:psc-lan]",
   "language": "python",
   "name": "conda-env-psc-lan-py"
  },
  "language_info": {
   "codemirror_mode": {
    "name": "ipython",
    "version": 3
   },
   "file_extension": ".py",
   "mimetype": "text/x-python",
   "name": "python",
   "nbconvert_exporter": "python",
   "pygments_lexer": "ipython3",
   "version": "3.6.6"
  }
 },
 "nbformat": 4,
 "nbformat_minor": 2
}
